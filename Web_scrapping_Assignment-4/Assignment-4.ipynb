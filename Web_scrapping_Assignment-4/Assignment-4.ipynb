{
 "cells": [
  {
   "cell_type": "markdown",
   "id": "d0f5989b",
   "metadata": {},
   "source": [
    "# ASSIGNMENT-4"
   ]
  },
  {
   "cell_type": "code",
   "execution_count": 1,
   "id": "746552a8",
   "metadata": {},
   "outputs": [],
   "source": [
    "import pandas as pd\n",
    "import numpy as np\n",
    "from selenium import webdriver\n",
    "import warnings\n",
    "warnings.filterwarnings('ignore')\n",
    "from selenium.common.exceptions import StaleElementReferenceException, NoSuchElementException\n",
    "from selenium.webdriver.common.by import By\n",
    "import time"
   ]
  },
  {
   "cell_type": "code",
   "execution_count": 8,
   "id": "01ba8d9e",
   "metadata": {
    "scrolled": true
   },
   "outputs": [],
   "source": [
    "driver=webdriver.Chrome(r\"C:\\Users\\artia\\OneDrive\\Documents\\seleniumdrive\\chromedriver.exe\") "
   ]
  },
  {
   "cell_type": "code",
   "execution_count": 9,
   "id": "87562ed8",
   "metadata": {},
   "outputs": [],
   "source": [
    "driver.get(\"https://en.wikipedia.org/wiki/List_of_most-viewed_YouTube_videos\")\n"
   ]
  },
  {
   "cell_type": "code",
   "execution_count": 10,
   "id": "3bb0d6fd",
   "metadata": {},
   "outputs": [],
   "source": [
    "Rank=[]\n",
    "Name=[]\n",
    "Artist=[]\n",
    "Upload_date=[]\n",
    "Views_in_billions=[]\n",
    "\n",
    "#creating webelements for each data required\n",
    "rank_element=driver.find_elements(By.XPATH,'//caption[contains(text(),\"30 most-viewed \")]/parent::table/tbody/tr/td[1]')\n",
    "name_element=driver.find_elements(By.XPATH,'//caption[contains(text(),\"30 most-viewed \")]/parent::table/tbody/tr/td[2]')\n",
    "artist_element=driver.find_elements(By.XPATH,'//caption[contains(text(),\"30 most-viewed \")]/parent::table/tbody/tr/td[3]')\n",
    "date_element=driver.find_elements(By.XPATH,'//caption[contains(text(),\"30 most-viewed \")]/parent::table/tbody/tr/td[5]')\n",
    "view_element=driver.find_elements(By.XPATH,'//caption[contains(text(),\"30 most-viewed \")]/parent::table/tbody/tr/td[4]')"
   ]
  },
  {
   "cell_type": "code",
   "execution_count": 11,
   "id": "8efd1af4",
   "metadata": {},
   "outputs": [],
   "source": [
    "for i in rank_element:\n",
    "    Rank.append(i.text.replace('.',''))\n",
    "    \n",
    "for i in name_element:\n",
    "    Name.append(i.text)\n",
    "\n",
    "for i in artist_element:\n",
    "    Artist.append(i.text)\n",
    "    \n",
    "for i in date_element:\n",
    "    Upload_date.append(i.text)\n",
    "    \n",
    "for i in view_element:\n",
    "    Views_in_billions.append(i.text)"
   ]
  },
  {
   "cell_type": "code",
   "execution_count": 12,
   "id": "3b69ba85",
   "metadata": {},
   "outputs": [
    {
     "data": {
      "text/plain": [
       "(30, 30, 30, 30, 30)"
      ]
     },
     "execution_count": 12,
     "metadata": {},
     "output_type": "execute_result"
    }
   ],
   "source": [
    "len(Name), len(Rank), len(Artist), len(Upload_date), len(Views_in_billions)"
   ]
  },
  {
   "cell_type": "code",
   "execution_count": 13,
   "id": "44fbe1fa",
   "metadata": {},
   "outputs": [],
   "source": [
    "driver.close()"
   ]
  },
  {
   "cell_type": "markdown",
   "id": "137b452c",
   "metadata": {},
   "source": [
    "# 2. Scrape the details team India’s international fixtures from bcci.tv.\n",
    "Url = https://www.bcci.tv/.\n",
    "You need to find following details:\n",
    "A) Match title (I.e. 1\n",
    "st ODI)\n",
    "B) Series\n",
    "C) Place\n",
    "D) Date\n",
    "E) Time\n",
    "Note: - From bcci.tv home page you have reach to the international fixture page through code."
   ]
  },
  {
   "cell_type": "code",
   "execution_count": 14,
   "id": "df638abc",
   "metadata": {},
   "outputs": [],
   "source": [
    "driver=webdriver.Chrome(r\"C:\\Users\\artia\\OneDrive\\Documents\\seleniumdrive\\chromedriver.exe\")\n",
    "#Launching URL\n",
    "driver.get('https://www.bcci.tv/')"
   ]
  },
  {
   "cell_type": "code",
   "execution_count": 22,
   "id": "d106f6c7",
   "metadata": {},
   "outputs": [],
   "source": [
    "from selenium.webdriver.common.action_chains import ActionChains\n",
    "\n",
    "action = ActionChains(driver)\n",
    "\n",
    "International = driver.find_element(By.XPATH,'//a[@class=\"nav-link \"]')\n"
   ]
  },
  {
   "cell_type": "code",
   "execution_count": 24,
   "id": "ff57ea09",
   "metadata": {},
   "outputs": [],
   "source": [
    "International.click()"
   ]
  },
  {
   "cell_type": "code",
   "execution_count": 25,
   "id": "c0227e34",
   "metadata": {},
   "outputs": [],
   "source": [
    "Fixture = driver.find_element(By.XPATH,'//a[@class=\"nav-link active \"]')\n",
    "Fixture.click()"
   ]
  },
  {
   "cell_type": "code",
   "execution_count": 28,
   "id": "b749d384",
   "metadata": {},
   "outputs": [],
   "source": [
    "All_Formats= driver.find_element(By.XPATH,'//div[@class=\"col-lg-2 col-md-2 col-sm-12\"]')\n",
    "All_Formats.click()"
   ]
  },
  {
   "cell_type": "code",
   "execution_count": 30,
   "id": "034b7e29",
   "metadata": {},
   "outputs": [],
   "source": [
    "ODI=driver.find_element(By.XPATH,'/html/body/div[2]/div[2]/div/div/div/div[2]/div[2]/div/div[3]/div/div[2]/div[3]')\n",
    "ODI.click()"
   ]
  },
  {
   "cell_type": "code",
   "execution_count": 31,
   "id": "f4a20da9",
   "metadata": {},
   "outputs": [],
   "source": [
    "Match_title=[]\n",
    "Series=[]\n",
    "Place=[]\n",
    "Date=[]\n",
    "Time=[]"
   ]
  },
  {
   "cell_type": "code",
   "execution_count": 38,
   "id": "bdada1a8",
   "metadata": {},
   "outputs": [],
   "source": [
    "Match=driver.find_elements(By.XPATH,'//div[@class=\"fixture-card-top\"]')\n",
    "for i in Match:\n",
    "        Match_title.append(i.text)\n",
    "        time.sleep(3)\n",
    "   "
   ]
  },
  {
   "cell_type": "code",
   "execution_count": 39,
   "id": "4005c5c9",
   "metadata": {},
   "outputs": [
    {
     "name": "stdout",
     "output_type": "stream",
     "text": [
      "12\n"
     ]
    }
   ],
   "source": [
    "print(len(Match_title))"
   ]
  },
  {
   "cell_type": "code",
   "execution_count": 40,
   "id": "b12a3102",
   "metadata": {},
   "outputs": [],
   "source": [
    "series=driver.find_elements(By.XPATH,'//span[@class=\"ng-binding\"]')\n",
    "for j in series:\n",
    "        Series.append(j.text)\n",
    "        time.sleep(3)\n",
    "   "
   ]
  },
  {
   "cell_type": "code",
   "execution_count": 41,
   "id": "b3ce0c69",
   "metadata": {},
   "outputs": [
    {
     "name": "stdout",
     "output_type": "stream",
     "text": [
      "6\n"
     ]
    }
   ],
   "source": [
    "print(len(Series))"
   ]
  },
  {
   "cell_type": "code",
   "execution_count": 42,
   "id": "95a6294b",
   "metadata": {},
   "outputs": [],
   "source": [
    "place=driver.find_elements(By.XPATH,'//div[@class=\"fix-place ng-binding ng-scope\"]')\n",
    "for e in place:\n",
    "        Place.append(e.text)\n",
    "        time.sleep(3)"
   ]
  },
  {
   "cell_type": "code",
   "execution_count": 44,
   "id": "275fc937",
   "metadata": {},
   "outputs": [],
   "source": [
    "date=driver.find_elements(By.XPATH,'//h5[@class=\"ng-binding\"]')\n",
    "for a in date:\n",
    "        Date.append(a.text)\n",
    "        time.sleep(3)"
   ]
  },
  {
   "cell_type": "code",
   "execution_count": 47,
   "id": "12b5e9d7",
   "metadata": {},
   "outputs": [],
   "source": [
    "TIME=driver.find_elements(By.XPATH,'//h5[@class=\"text-right ng-binding\"]')\n",
    "for p in TIME:\n",
    "        Time.append(p.text)\n",
    "  "
   ]
  },
  {
   "cell_type": "code",
   "execution_count": 50,
   "id": "80a6c629",
   "metadata": {},
   "outputs": [
    {
     "name": "stdout",
     "output_type": "stream",
     "text": [
      "12 6 6 12 8\n"
     ]
    }
   ],
   "source": [
    "print(len(Match_title),len(Series),len(Place),len(Date),len(Time))"
   ]
  },
  {
   "cell_type": "code",
   "execution_count": 51,
   "id": "98d82bc9",
   "metadata": {},
   "outputs": [],
   "source": [
    "driver.close()"
   ]
  },
  {
   "cell_type": "markdown",
   "id": "7954951a",
   "metadata": {},
   "source": [
    "# 3. Scrape the details of selenium exception from guru99.com.\n",
    "Url = https://www.guru99.com/\n",
    "You need to find following details:\n",
    "A) Name\n",
    "B) Description\n",
    "Note: - From guru99 home page you have to reach to selenium exception handling page through code."
   ]
  },
  {
   "cell_type": "code",
   "execution_count": 95,
   "id": "c6eb5433",
   "metadata": {},
   "outputs": [],
   "source": [
    "driver=webdriver.Chrome(r\"C:\\Users\\artia\\OneDrive\\Documents\\seleniumdrive\\chromedriver.exe\")\n",
    "url_='https://www.guru99.com/'\n",
    "driver.get(url_)"
   ]
  },
  {
   "cell_type": "code",
   "execution_count": 96,
   "id": "e15b123b",
   "metadata": {},
   "outputs": [],
   "source": [
    "selenium= driver.find_element(By.XPATH,'/html/body/div[1]/div/div/div/main/div/article/div/div[1]/div[2]/div[1]/div/ul[1]/li[3]/a')\n",
    "selenium.click()\n",
    "\n"
   ]
  },
  {
   "cell_type": "code",
   "execution_count": 97,
   "id": "53507e9b",
   "metadata": {},
   "outputs": [],
   "source": [
    "exceptions= driver.find_element(By.XPATH,'/html/body/div[1]/div/div/div/main/div/article/div/div/table[5]/tbody/tr[34]/td[1]/a')\n",
    "exceptions.click()"
   ]
  },
  {
   "cell_type": "code",
   "execution_count": 55,
   "id": "7f4a81e1",
   "metadata": {},
   "outputs": [],
   "source": [
    "Exception_name=[]\n",
    "Description=[]"
   ]
  },
  {
   "cell_type": "code",
   "execution_count": 113,
   "id": "1295369c",
   "metadata": {},
   "outputs": [],
   "source": [
    "for i in driver.find_elements(By.XPATH,'//table[@class=\"table table-striped\"]//td[1]'):\n",
    "    exception_name.append(i.text)\n",
    "\n",
    "#appending exception description\n",
    "for i in driver.find_elements(By.XPATH,'//table[@class=\"table table-striped\"]//td[2]'):\n",
    "    Description.append(i.text)"
   ]
  },
  {
   "cell_type": "code",
   "execution_count": 115,
   "id": "78379b42",
   "metadata": {},
   "outputs": [],
   "source": [
    "driver.close()"
   ]
  },
  {
   "cell_type": "markdown",
   "id": "529f4ecf",
   "metadata": {},
   "source": [
    "# 4. Scrape the details of State-wise GDP of India from statisticstime.com.\n",
    "Url = http://statisticstimes.com/\n",
    "You have to find following details:\n",
    "A) Rank\n",
    "B) State\n",
    "C) GSDP(18-19)\n",
    "D) GSDP(17-18)\n",
    "E) Share(2017)\n",
    "F) GDP($ billion)\n",
    "Note: - From statisticstimes home page you have to reach to economy page through code"
   ]
  },
  {
   "cell_type": "code",
   "execution_count": 116,
   "id": "24e51a34",
   "metadata": {},
   "outputs": [],
   "source": [
    "from selenium.webdriver.common.alert import Alert"
   ]
  },
  {
   "cell_type": "code",
   "execution_count": 117,
   "id": "626e9f30",
   "metadata": {},
   "outputs": [],
   "source": [
    "driver=webdriver.Chrome(r\"C:\\Users\\artia\\OneDrive\\Documents\\seleniumdrive\\chromedriver.exe\")\n",
    "#Launching URL\n",
    "url_='http://statisticstimes.com/'\n",
    "driver.get(url_)"
   ]
  },
  {
   "cell_type": "code",
   "execution_count": 122,
   "id": "ceaf2fa6",
   "metadata": {},
   "outputs": [
    {
     "name": "stdout",
     "output_type": "stream",
     "text": [
      "Executed try block\n"
     ]
    }
   ],
   "source": [
    "#navigating to economy and followed by india\n",
    "\n",
    "Economy = driver.find_element(By.XPATH,'//button[contains(text(),\"Economy\")]')\n",
    "india = driver.find_element(By.XPATH,'//a[@href=\"../economy/india-statistics.php\"]')\n",
    "  \n",
    "ActionChains(driver).move_to_element(Economy).click(india).perform()\n",
    "\n",
    "#Handling pop ups\n",
    "\n",
    "try:\n",
    "    #driver.find_element(By.XPATH,'//div[@aria-label=\"Close ad\"]').click()\n",
    "    #element=driver.find_element(By.XPATH,'//div[@aria-label=\"Close ad\"]').click()\n",
    "    #driver.execute_script(\"arguments[0].click();\", element)\n",
    "    print(\"Executed try block\")\n",
    "except NoSuchElementException as ns:\n",
    "    #driver.find_element(By.XPATH,'//div[@id=\"dismiss-button\"]').click()\n",
    "    print(ns)\n",
    "    \n",
    "#navigating to DGP of indian states\n",
    "\n",
    "#driver.find_element_by_xpath('//a[@href=\"india/indian-states-gdp.php\"]').click()"
   ]
  },
  {
   "cell_type": "code",
   "execution_count": 123,
   "id": "5bb8ea52",
   "metadata": {},
   "outputs": [],
   "source": [
    "Rank=[]\n",
    "State=[]\n",
    "GSDP_Current_18=[]\n",
    "GSDP_Current_19=[]\n",
    "Share=[]\n",
    "GDP_in_billions=[]\n",
    "\n",
    "for i in driver.find_elements(By.XPATH,'//table[@id=\"table_id\"]//td[1]'):\n",
    "    Rank.append(i.text)\n",
    "    \n",
    "for i in driver.find_elements(By.XPATH,'//table[@id=\"table_id\"]//td[2]'):\n",
    "    State.append(i.text)\n",
    "    \n",
    "for i in driver.find_elements(By.XPATH,'//table[@id=\"table_id\"]//td[4]'):\n",
    "    GSDP_Current_18.append(i.text)\n",
    "    \n",
    "for i in driver.find_elements(By.XPATH,'//table[@id=\"table_id\"]//td[3]'):\n",
    "    GSDP_Current_19.append(i.text)\n",
    "    \n",
    "for i in driver.find_elements(By.XPATH,'//table[@id=\"table_id\"]//td[5]'):\n",
    "    Share.append(i.text)\n",
    "    \n",
    "for i in driver.find_elements(By.XPATH,'//table[@id=\"table_id\"]//td[6]'):\n",
    "    GDP_in_billions.append(i.text)"
   ]
  },
  {
   "cell_type": "markdown",
   "id": "6c3d6707",
   "metadata": {},
   "source": [
    "# 5. Scrape the details of trending repositories on Github.com.\n",
    "Url = https://github.com/\n",
    "You have to find the following details:\n",
    "A) Repository title\n",
    "B) Repository description\n",
    "C) Contributors count\n",
    "D) Language used\n",
    "Note: - From the home page you have to click on the trending option from Explore menu through code."
   ]
  },
  {
   "cell_type": "code",
   "execution_count": 130,
   "id": "8c832c2b",
   "metadata": {},
   "outputs": [],
   "source": [
    "driver=webdriver.Chrome(r\"C:\\Users\\artia\\OneDrive\\Documents\\seleniumdrive\\chromedriver.exe\")\n",
    "#Launching URL\n",
    "url_='https://github.com/'\n",
    "driver.get(url_)"
   ]
  },
  {
   "cell_type": "code",
   "execution_count": 145,
   "id": "2a4dc48e",
   "metadata": {},
   "outputs": [
    {
     "ename": "SyntaxError",
     "evalue": "invalid syntax (Temp/ipykernel_14188/145045316.py, line 6)",
     "output_type": "error",
     "traceback": [
      "\u001b[1;36m  File \u001b[1;32m\"C:\\Users\\artia\\AppData\\Local\\Temp/ipykernel_14188/145045316.py\"\u001b[1;36m, line \u001b[1;32m6\u001b[0m\n\u001b[1;33m    except ElementNotInteractableException as en:\u001b[0m\n\u001b[1;37m    ^\u001b[0m\n\u001b[1;31mSyntaxError\u001b[0m\u001b[1;31m:\u001b[0m invalid syntax\n"
     ]
    }
   ],
   "source": [
    "#navigating to explore and followed by trending\n",
    "\n",
    "\n",
    "trending = driver.find_element(By.XPATH,'//a[@href=\"/trending\"]')\n",
    "try:\n",
    "    except ElementNotInteractableException as en:\n",
    "    print(en)"
   ]
  },
  {
   "cell_type": "code",
   "execution_count": 140,
   "id": "a18f975f",
   "metadata": {},
   "outputs": [],
   "source": [
    "#creating empty list to scrap the details\n",
    "\n",
    "repo_name=[]\n",
    "repo_des=[]\n",
    "contributors=[]\n",
    "Language=[]\n",
    "\n",
    "#appending repo name\n",
    "\n",
    "for i in driver.find_elements(By.XPATH,'//h1[@class=\"h3 lh-condensed\"]/a'):\n",
    "    repo_name.append(i.text)\n",
    "\n",
    "\n",
    "#appendign repo description\n",
    "for i in driver.find_elements(By.XPATH,'//article[@class=\"Box-row\"]/p'):\n",
    "    repo_des.append(i.text)\n",
    "\n",
    "#appending contributors\n",
    "for i in driver.find_elements(By.XPATH,'//span[contains(text(),\"Built by\")]'):\n",
    "    contributors.append(i.text)\n",
    "\n",
    "#appending language    \n",
    "for i in driver.find_elements(By.XPATH,'//span[@itemprop=\"programmingLanguage\"]'):\n",
    "    if i.text is None:\n",
    "        Language.append(\"-\")\n",
    "    else:\n",
    "        Language.append(i.text)"
   ]
  },
  {
   "cell_type": "markdown",
   "id": "2916d448",
   "metadata": {},
   "source": [
    "# 6. Scrape the details of top 100 songs on billiboard.com.\n",
    "Url = https:/www.billboard.com/\n",
    "You have to find the following details:\n",
    "A) Song name\n",
    "B) Artist name\n",
    "C) Last week rank\n",
    "D) Peak rank\n",
    "E) Weeks on board\n",
    "Note: - From the home page you have to click on the charts option then hot 100-page link through code."
   ]
  },
  {
   "cell_type": "code",
   "execution_count": 147,
   "id": "5064100e",
   "metadata": {},
   "outputs": [],
   "source": [
    "driver=webdriver.Chrome(r\"C:\\Users\\artia\\OneDrive\\Documents\\seleniumdrive\\chromedriver.exe\")\n",
    "#Launching URL\n",
    "url_='https://www.billboard.com/'\n",
    "driver.get(url_) "
   ]
  },
  {
   "cell_type": "code",
   "execution_count": 152,
   "id": "97067eed",
   "metadata": {},
   "outputs": [],
   "source": [
    "#navigating to charts and followed by hot-100\n",
    "\n",
    "try:\n",
    "    chart = driver.find_element(By.XPATH,'//h3[@id=\"mega-menu-item-charts\"]')\n",
    "    hot_100 = driver.find_element(By.XPATH,'//a[@href=\"/charts/hot-100/\"]')\n",
    "    try:\n",
    "        ActionChains(driver).move_to_element(chart).click(hot_100).perform()\n",
    "    except ElementNotInteractableException as en:\n",
    "        print(en)\n",
    "    \n",
    "except NoSuchElementException as ns:\n",
    "    chart = driver.find_element_by_xpath('//a[@href=\"/charts/hot-100\"]').click()\n",
    "    "
   ]
  },
  {
   "cell_type": "code",
   "execution_count": 153,
   "id": "acc2a946",
   "metadata": {},
   "outputs": [],
   "source": [
    "song_name=[]\n",
    "Artist_name=[]\n",
    "last_week_rank=[]\n",
    "peak_rank=[]\n",
    "weeks_on_board=[]\n",
    "\n",
    "#appending song name    \n",
    "for i in driver.find_elements(By.XPATH,'//span[@class=\"chart-element__information__song text--truncate color--primary\"]'):\n",
    "    if i.text is None:\n",
    "        song_name.append(\"-\")\n",
    "    else:\n",
    "        song_name.append(i.text)\n",
    "        \n",
    "#appending artist name    \n",
    "for i in driver.find_elements(By.XPATH,'//span[@class=\"chart-element__information__artist text--truncate color--secondary\"]'):\n",
    "    if i.text is None:\n",
    "        Artist_name.append(\"-\")\n",
    "    else:\n",
    "        Artist_name.append(i.text)\n",
    "        \n",
    "#appending lask week rank    \n",
    "for i in driver.find_elements(By.XPATH,'//div[@class=\"chart-element__meta text--center color--secondary text--last\"]'):\n",
    "    if i.text is None:\n",
    "        last_week_rank.append(\"-\")\n",
    "    else:\n",
    "        last_week_rank.append(i.text)\n",
    "        \n",
    "#appending peak rank    \n",
    "for i in driver.find_elements(By.XPATH,'//div[@class=\"chart-element__meta text--center color--secondary text--peak\"]'):\n",
    "    if i.text is None:\n",
    "        peak_rank.append(\"-\")\n",
    "    else:\n",
    "        peak_rank.append(i.text)\n",
    "        \n",
    "#appending weeks on board    \n",
    "for i in driver.find_elements(By.XPATH,'//div[@class=\"chart-element__meta text--center color--secondary text--week\"]'):\n",
    "    if i.text is None:\n",
    "        weeks_on_board.append(\"-\")\n",
    "    else:\n",
    "        weeks_on_board.append(i.text)"
   ]
  },
  {
   "cell_type": "code",
   "execution_count": 155,
   "id": "62804d22",
   "metadata": {},
   "outputs": [],
   "source": [
    "driver.close()"
   ]
  },
  {
   "cell_type": "markdown",
   "id": "e84a76bd",
   "metadata": {},
   "source": [
    "# 7. Scrape the details of Data science recruiters from naukri.com.\n",
    "Url = https://www.naukri.com/\n",
    "You have to find the following details:\n",
    "A) Name\n",
    "B) Designation\n",
    "C) Company\n",
    "D) Skills they hire for\n",
    "E) Location\n",
    "Note: - From naukri.com homepage click on the recruiters option and the on the search pane type Data science and\n",
    "click on search. All this should be done through code"
   ]
  },
  {
   "cell_type": "code",
   "execution_count": 156,
   "id": "19c0d2e8",
   "metadata": {},
   "outputs": [],
   "source": [
    "driver=webdriver.Chrome(r\"C:\\Users\\artia\\OneDrive\\Documents\\seleniumdrive\\chromedriver.exe\")\n",
    "#Launching URL\n",
    "url_='https://www.naukri.com/'\n",
    "driver.get(url_) "
   ]
  },
  {
   "cell_type": "code",
   "execution_count": 157,
   "id": "c5881749",
   "metadata": {},
   "outputs": [],
   "source": [
    "Input= driver.find_element(By.CLASS_NAME,\"suggestor-input \")\n",
    "Input.send_keys('Data science')"
   ]
  },
  {
   "cell_type": "code",
   "execution_count": 158,
   "id": "11f59590",
   "metadata": {},
   "outputs": [],
   "source": [
    "Search= driver.find_element(By.CLASS_NAME,\"qsbSubmit\")\n",
    "Search.click()"
   ]
  },
  {
   "cell_type": "code",
   "execution_count": 160,
   "id": "834bbefe",
   "metadata": {},
   "outputs": [],
   "source": [
    "name=[]\n",
    "designation=[]\n",
    "company=[]\n",
    "skills=[]\n",
    "location=[]\n",
    "\n",
    "\n",
    "#appending name    \n",
    "for i in driver.find_elements(By.XPATH,'//a[@class=\"title fw500 ellipsis\"]'):\n",
    "    if i.text is None:\n",
    "        name.append(\"-\")\n",
    "    else:\n",
    "        name.append(i.text)\n",
    "        \n",
    "\n",
    "#appending designation   \n",
    "for i in driver.find_elements(By.XPATH,'//a[@class=\"title fw500 ellipsis\"]'):\n",
    "    if i.text is None:\n",
    "        designation.append(\"-\")\n",
    "    else:\n",
    "        designation.append(i.text)\n",
    "        \n",
    "\n",
    "#appending comapny   \n",
    "for i in driver.find_elements(By.XPATH,'//a[@class=\"subTitle ellipsis fleft\"]'):\n",
    "    if i.text is None:\n",
    "        company.append(\"-\")\n",
    "    else:\n",
    "        company.append(i.text)\n",
    "        \n",
    "\n",
    "#appending skills    \n",
    "for i in driver.find_elements(By.XPATH,'//ul[@class=\"tags has-description\"]'):\n",
    "    if i.text is None:\n",
    "        skills.append(\"-\")\n",
    "    else:\n",
    "        skills.append(i.text)\n",
    "        \n",
    "#appending location    \n",
    "for i in driver.find_elements(By.XPATH,'//span[@class=\"ellipsis fleft fs12 lh16 locWdth\"]'):\n",
    "    if i.text is None:\n",
    "        location.append(\"-\")\n",
    "    else:\n",
    "        location.append(i.text)"
   ]
  },
  {
   "cell_type": "code",
   "execution_count": 163,
   "id": "f0a6dfb9",
   "metadata": {},
   "outputs": [
    {
     "data": {
      "text/plain": [
       "(20, 20, 20, 20, 20)"
      ]
     },
     "execution_count": 163,
     "metadata": {},
     "output_type": "execute_result"
    }
   ],
   "source": [
    "len(name),len(designation),len(company),len(skills),len(location)"
   ]
  },
  {
   "cell_type": "code",
   "execution_count": 164,
   "id": "13b38518",
   "metadata": {},
   "outputs": [],
   "source": [
    "driver.close()"
   ]
  },
  {
   "cell_type": "markdown",
   "id": "95b31e11",
   "metadata": {},
   "source": [
    "# 8. Scrape the details of Highest selling novels.\n",
    "Url = https://www.theguardian.com/news/datablog/2012/aug/09/best-selling-books-all-time-fifty-shades-grey\u0002compare/\n",
    "You have to find the following details:\n",
    "A) Book name\n",
    "B) Author name\n",
    "C) Volumes sold\n",
    "D) Publisher\n",
    "E) Genre"
   ]
  },
  {
   "cell_type": "code",
   "execution_count": 168,
   "id": "abfe2fa4",
   "metadata": {},
   "outputs": [],
   "source": [
    "driver=webdriver.Chrome(r\"C:\\Users\\artia\\OneDrive\\Documents\\seleniumdrive\\chromedriver.exe\")\n",
    "#Launching URL\n",
    "url = 'https://www.theguardian.com/news/datablog/2012/aug/09/best-selling-books-all-time-fifty-shades-grey%02compare'\n",
    "driver.get(url) "
   ]
  },
  {
   "cell_type": "code",
   "execution_count": 171,
   "id": "c9d1b8a1",
   "metadata": {},
   "outputs": [],
   "source": [
    "Input= driver.find_element(By.XPATH,'//a[@class=\"arrow\"]')\n",
    "Input.click()"
   ]
  },
  {
   "cell_type": "code",
   "execution_count": 174,
   "id": "56bbb697",
   "metadata": {},
   "outputs": [
    {
     "ename": "ElementNotInteractableException",
     "evalue": "Message: element not interactable\n  (Session info: chrome=107.0.5304.88)\nStacktrace:\nBacktrace:\n\tOrdinal0 [0x00DFACD3+2075859]\n\tOrdinal0 [0x00D8EE61+1633889]\n\tOrdinal0 [0x00C8B680+571008]\n\tOrdinal0 [0x00CB647E+746622]\n\tOrdinal0 [0x00CB5B5A+744282]\n\tOrdinal0 [0x00CD731C+881436]\n\tOrdinal0 [0x00CB15BF+726463]\n\tOrdinal0 [0x00CD7534+881972]\n\tOrdinal0 [0x00CEB56A+963946]\n\tOrdinal0 [0x00CD7136+880950]\n\tOrdinal0 [0x00CAFEFD+720637]\n\tOrdinal0 [0x00CB0F3F+724799]\n\tGetHandleVerifier [0x010AEED2+2769538]\n\tGetHandleVerifier [0x010A0D95+2711877]\n\tGetHandleVerifier [0x00E8A03A+521194]\n\tGetHandleVerifier [0x00E88DA0+516432]\n\tOrdinal0 [0x00D9682C+1665068]\n\tOrdinal0 [0x00D9B128+1683752]\n\tOrdinal0 [0x00D9B215+1683989]\n\tOrdinal0 [0x00DA6484+1729668]\n\tBaseThreadInitThunk [0x76106739+25]\n\tRtlGetFullPathName_UEx [0x76F28FD2+1218]\n\tRtlGetFullPathName_UEx [0x76F28F9D+1165]\n",
     "output_type": "error",
     "traceback": [
      "\u001b[1;31m---------------------------------------------------------------------------\u001b[0m",
      "\u001b[1;31mElementNotInteractableException\u001b[0m           Traceback (most recent call last)",
      "\u001b[1;32m~\\AppData\\Local\\Temp/ipykernel_14188/2198783530.py\u001b[0m in \u001b[0;36m<module>\u001b[1;34m\u001b[0m\n\u001b[0;32m      1\u001b[0m \u001b[0msearch\u001b[0m\u001b[1;33m=\u001b[0m\u001b[0mdriver\u001b[0m\u001b[1;33m.\u001b[0m\u001b[0mfind_element\u001b[0m\u001b[1;33m(\u001b[0m\u001b[0mBy\u001b[0m\u001b[1;33m.\u001b[0m\u001b[0mCLASS_NAME\u001b[0m\u001b[1;33m,\u001b[0m\u001b[1;34m'gsc-input-box'\u001b[0m\u001b[1;33m)\u001b[0m\u001b[1;33m\u001b[0m\u001b[1;33m\u001b[0m\u001b[0m\n\u001b[1;32m----> 2\u001b[1;33m \u001b[0msearch\u001b[0m\u001b[1;33m.\u001b[0m\u001b[0msend_keys\u001b[0m\u001b[1;33m(\u001b[0m\u001b[1;34m'fifty shades of grey'\u001b[0m\u001b[1;33m)\u001b[0m\u001b[1;33m\u001b[0m\u001b[1;33m\u001b[0m\u001b[0m\n\u001b[0m",
      "\u001b[1;32m~\\anaconda3\\lib\\site-packages\\selenium\\webdriver\\remote\\webelement.py\u001b[0m in \u001b[0;36msend_keys\u001b[1;34m(self, *value)\u001b[0m\n\u001b[0;32m    221\u001b[0m                 \u001b[0mvalue\u001b[0m \u001b[1;33m=\u001b[0m \u001b[1;34m'\\n'\u001b[0m\u001b[1;33m.\u001b[0m\u001b[0mjoin\u001b[0m\u001b[1;33m(\u001b[0m\u001b[0mremote_files\u001b[0m\u001b[1;33m)\u001b[0m\u001b[1;33m\u001b[0m\u001b[1;33m\u001b[0m\u001b[0m\n\u001b[0;32m    222\u001b[0m \u001b[1;33m\u001b[0m\u001b[0m\n\u001b[1;32m--> 223\u001b[1;33m         self._execute(Command.SEND_KEYS_TO_ELEMENT,\n\u001b[0m\u001b[0;32m    224\u001b[0m                       {'text': \"\".join(keys_to_typing(value)),\n\u001b[0;32m    225\u001b[0m                        'value': keys_to_typing(value)})\n",
      "\u001b[1;32m~\\anaconda3\\lib\\site-packages\\selenium\\webdriver\\remote\\webelement.py\u001b[0m in \u001b[0;36m_execute\u001b[1;34m(self, command, params)\u001b[0m\n\u001b[0;32m    394\u001b[0m             \u001b[0mparams\u001b[0m \u001b[1;33m=\u001b[0m \u001b[1;33m{\u001b[0m\u001b[1;33m}\u001b[0m\u001b[1;33m\u001b[0m\u001b[1;33m\u001b[0m\u001b[0m\n\u001b[0;32m    395\u001b[0m         \u001b[0mparams\u001b[0m\u001b[1;33m[\u001b[0m\u001b[1;34m'id'\u001b[0m\u001b[1;33m]\u001b[0m \u001b[1;33m=\u001b[0m \u001b[0mself\u001b[0m\u001b[1;33m.\u001b[0m\u001b[0m_id\u001b[0m\u001b[1;33m\u001b[0m\u001b[1;33m\u001b[0m\u001b[0m\n\u001b[1;32m--> 396\u001b[1;33m         \u001b[1;32mreturn\u001b[0m \u001b[0mself\u001b[0m\u001b[1;33m.\u001b[0m\u001b[0m_parent\u001b[0m\u001b[1;33m.\u001b[0m\u001b[0mexecute\u001b[0m\u001b[1;33m(\u001b[0m\u001b[0mcommand\u001b[0m\u001b[1;33m,\u001b[0m \u001b[0mparams\u001b[0m\u001b[1;33m)\u001b[0m\u001b[1;33m\u001b[0m\u001b[1;33m\u001b[0m\u001b[0m\n\u001b[0m\u001b[0;32m    397\u001b[0m \u001b[1;33m\u001b[0m\u001b[0m\n\u001b[0;32m    398\u001b[0m     \u001b[1;32mdef\u001b[0m \u001b[0mfind_element\u001b[0m\u001b[1;33m(\u001b[0m\u001b[0mself\u001b[0m\u001b[1;33m,\u001b[0m \u001b[0mby\u001b[0m\u001b[1;33m=\u001b[0m\u001b[0mBy\u001b[0m\u001b[1;33m.\u001b[0m\u001b[0mID\u001b[0m\u001b[1;33m,\u001b[0m \u001b[0mvalue\u001b[0m\u001b[1;33m=\u001b[0m\u001b[1;32mNone\u001b[0m\u001b[1;33m)\u001b[0m \u001b[1;33m->\u001b[0m \u001b[0mWebElement\u001b[0m\u001b[1;33m:\u001b[0m\u001b[1;33m\u001b[0m\u001b[1;33m\u001b[0m\u001b[0m\n",
      "\u001b[1;32m~\\anaconda3\\lib\\site-packages\\selenium\\webdriver\\remote\\webdriver.py\u001b[0m in \u001b[0;36mexecute\u001b[1;34m(self, driver_command, params)\u001b[0m\n\u001b[0;32m    427\u001b[0m         \u001b[0mresponse\u001b[0m \u001b[1;33m=\u001b[0m \u001b[0mself\u001b[0m\u001b[1;33m.\u001b[0m\u001b[0mcommand_executor\u001b[0m\u001b[1;33m.\u001b[0m\u001b[0mexecute\u001b[0m\u001b[1;33m(\u001b[0m\u001b[0mdriver_command\u001b[0m\u001b[1;33m,\u001b[0m \u001b[0mparams\u001b[0m\u001b[1;33m)\u001b[0m\u001b[1;33m\u001b[0m\u001b[1;33m\u001b[0m\u001b[0m\n\u001b[0;32m    428\u001b[0m         \u001b[1;32mif\u001b[0m \u001b[0mresponse\u001b[0m\u001b[1;33m:\u001b[0m\u001b[1;33m\u001b[0m\u001b[1;33m\u001b[0m\u001b[0m\n\u001b[1;32m--> 429\u001b[1;33m             \u001b[0mself\u001b[0m\u001b[1;33m.\u001b[0m\u001b[0merror_handler\u001b[0m\u001b[1;33m.\u001b[0m\u001b[0mcheck_response\u001b[0m\u001b[1;33m(\u001b[0m\u001b[0mresponse\u001b[0m\u001b[1;33m)\u001b[0m\u001b[1;33m\u001b[0m\u001b[1;33m\u001b[0m\u001b[0m\n\u001b[0m\u001b[0;32m    430\u001b[0m             response['value'] = self._unwrap_value(\n\u001b[0;32m    431\u001b[0m                 response.get('value', None))\n",
      "\u001b[1;32m~\\anaconda3\\lib\\site-packages\\selenium\\webdriver\\remote\\errorhandler.py\u001b[0m in \u001b[0;36mcheck_response\u001b[1;34m(self, response)\u001b[0m\n\u001b[0;32m    241\u001b[0m                 \u001b[0malert_text\u001b[0m \u001b[1;33m=\u001b[0m \u001b[0mvalue\u001b[0m\u001b[1;33m[\u001b[0m\u001b[1;34m'alert'\u001b[0m\u001b[1;33m]\u001b[0m\u001b[1;33m.\u001b[0m\u001b[0mget\u001b[0m\u001b[1;33m(\u001b[0m\u001b[1;34m'text'\u001b[0m\u001b[1;33m)\u001b[0m\u001b[1;33m\u001b[0m\u001b[1;33m\u001b[0m\u001b[0m\n\u001b[0;32m    242\u001b[0m             \u001b[1;32mraise\u001b[0m \u001b[0mexception_class\u001b[0m\u001b[1;33m(\u001b[0m\u001b[0mmessage\u001b[0m\u001b[1;33m,\u001b[0m \u001b[0mscreen\u001b[0m\u001b[1;33m,\u001b[0m \u001b[0mstacktrace\u001b[0m\u001b[1;33m,\u001b[0m \u001b[0malert_text\u001b[0m\u001b[1;33m)\u001b[0m  \u001b[1;31m# type: ignore[call-arg]  # mypy is not smart enough here\u001b[0m\u001b[1;33m\u001b[0m\u001b[1;33m\u001b[0m\u001b[0m\n\u001b[1;32m--> 243\u001b[1;33m         \u001b[1;32mraise\u001b[0m \u001b[0mexception_class\u001b[0m\u001b[1;33m(\u001b[0m\u001b[0mmessage\u001b[0m\u001b[1;33m,\u001b[0m \u001b[0mscreen\u001b[0m\u001b[1;33m,\u001b[0m \u001b[0mstacktrace\u001b[0m\u001b[1;33m)\u001b[0m\u001b[1;33m\u001b[0m\u001b[1;33m\u001b[0m\u001b[0m\n\u001b[0m",
      "\u001b[1;31mElementNotInteractableException\u001b[0m: Message: element not interactable\n  (Session info: chrome=107.0.5304.88)\nStacktrace:\nBacktrace:\n\tOrdinal0 [0x00DFACD3+2075859]\n\tOrdinal0 [0x00D8EE61+1633889]\n\tOrdinal0 [0x00C8B680+571008]\n\tOrdinal0 [0x00CB647E+746622]\n\tOrdinal0 [0x00CB5B5A+744282]\n\tOrdinal0 [0x00CD731C+881436]\n\tOrdinal0 [0x00CB15BF+726463]\n\tOrdinal0 [0x00CD7534+881972]\n\tOrdinal0 [0x00CEB56A+963946]\n\tOrdinal0 [0x00CD7136+880950]\n\tOrdinal0 [0x00CAFEFD+720637]\n\tOrdinal0 [0x00CB0F3F+724799]\n\tGetHandleVerifier [0x010AEED2+2769538]\n\tGetHandleVerifier [0x010A0D95+2711877]\n\tGetHandleVerifier [0x00E8A03A+521194]\n\tGetHandleVerifier [0x00E88DA0+516432]\n\tOrdinal0 [0x00D9682C+1665068]\n\tOrdinal0 [0x00D9B128+1683752]\n\tOrdinal0 [0x00D9B215+1683989]\n\tOrdinal0 [0x00DA6484+1729668]\n\tBaseThreadInitThunk [0x76106739+25]\n\tRtlGetFullPathName_UEx [0x76F28FD2+1218]\n\tRtlGetFullPathName_UEx [0x76F28F9D+1165]\n"
     ]
    }
   ],
   "source": [
    "search=driver.find_element(By.CLASS_NAME,'gsc-input-box')\n",
    "search.send_keys('fifty shades of grey')"
   ]
  },
  {
   "cell_type": "markdown",
   "id": "c240c925",
   "metadata": {},
   "source": [
    "#There is some problem in the url so unable to get the data regarding the book, it should come after searching the url but not coming and evenafter giving the separate command also the output is not getting. "
   ]
  },
  {
   "cell_type": "markdown",
   "id": "a5269656",
   "metadata": {},
   "source": [
    "# 9. Scrape the details most watched tv series of all time from imdb.com.\n",
    "Url = https://www.imdb.com/list/ls095964455/\n",
    "You have to find the following details:\n",
    "A) Name\n",
    "B) Year span\n",
    "C) Genre\n",
    "D) Run time\n",
    "E) Ratings\n",
    "F) Votes"
   ]
  },
  {
   "cell_type": "code",
   "execution_count": 176,
   "id": "7883dbd8",
   "metadata": {},
   "outputs": [],
   "source": [
    "driver=webdriver.Chrome(r\"C:\\Users\\artia\\OneDrive\\Documents\\seleniumdrive\\chromedriver.exe\")\n",
    "#Launching URL\n",
    "url =  'https://www.imdb.com/list/ls095964455/' \n",
    "driver.get(url) "
   ]
  },
  {
   "cell_type": "code",
   "execution_count": 177,
   "id": "702e8d00",
   "metadata": {},
   "outputs": [],
   "source": [
    "name=[]\n",
    "year_span=[]\n",
    "genre=[]\n",
    "run_time=[]\n",
    "rating=[]\n",
    "vote=[]\n",
    "\n",
    "for i in driver.find_elements(By.XPATH,'//h3[@class=\"lister-item-header\"]'):\n",
    "    if i.text is None:\n",
    "        name.append(\"-\")\n",
    "    else:\n",
    "        name.append(i.text)\n",
    "        \n",
    "        \n",
    "for i in driver.find_elements(By.XPATH,'//span[@class=\"lister-item-year text-muted unbold\"]'):\n",
    "    if i.text is None:\n",
    "        year_span.append(\"-\")\n",
    "    else:\n",
    "        year_span.append(i.text)\n",
    "        \n",
    "        \n",
    "for i in driver.find_elements(By.XPATH,'//span[@class=\"genre\"]'):\n",
    "    if i.text is None:\n",
    "        genre.append(\"-\")\n",
    "    else:\n",
    "        genre.append(i.text)\n",
    "        \n",
    "        \n",
    "for i in driver.find_elements(By.XPATH,'//span[@class=\"runtime\"]'):\n",
    "    if i.text is None:\n",
    "        run_time.append(\"-\")\n",
    "    else:\n",
    "        run_time.append(i.text)\n",
    "        \n",
    "               \n",
    "for i in driver.find_elements(By.XPATH,'//span[@class=\"ipl-rating-star__rating\"]'):\n",
    "    if i.text is None:\n",
    "        rating.append(\"-\")\n",
    "    else:\n",
    "        rating.append(i.text)\n",
    "        \n",
    "               \n",
    "for i in driver.find_elements(By.XPATH,'//span[@name=\"nv\"]'):\n",
    "    if i.text is None:\n",
    "        vote.append(\"-\")\n",
    "    else:\n",
    "        vote.append(i.text)\n",
    "                "
   ]
  },
  {
   "cell_type": "code",
   "execution_count": 178,
   "id": "a2b8df09",
   "metadata": {},
   "outputs": [],
   "source": [
    "driver.close()"
   ]
  },
  {
   "cell_type": "markdown",
   "id": "f236b048",
   "metadata": {},
   "source": [
    "# 10. Details of Datasets from UCI machine learning repositories.\n",
    "Url = https://archive.ics.uci.edu/\n",
    "You have to find the following details:\n",
    "A) Dataset name\n",
    "B) Data type\n",
    "C) Task\n",
    "D) Attribute type\n",
    "E) No of instances\n",
    "F) No of attribute\n",
    "G) Year\n",
    "Note: - from the home page you have to go to the ShowAllDataset page through code"
   ]
  },
  {
   "cell_type": "code",
   "execution_count": 179,
   "id": "f60c548d",
   "metadata": {},
   "outputs": [],
   "source": [
    "driver=webdriver.Chrome(r\"C:\\Users\\artia\\OneDrive\\Documents\\seleniumdrive\\chromedriver.exe\")\n",
    "#Launching URL\n",
    "url =  'https://archive.ics.uci.edu/ ' \n",
    "driver.get(url) "
   ]
  },
  {
   "cell_type": "code",
   "execution_count": 180,
   "id": "662bdfee",
   "metadata": {},
   "outputs": [],
   "source": [
    "all_dataset=driver.find_element(By.XPATH,'//a[@href=\"datasets.php\"]')\n",
    "all_dataset.click()"
   ]
  },
  {
   "cell_type": "code",
   "execution_count": 181,
   "id": "140370db",
   "metadata": {},
   "outputs": [],
   "source": [
    "dataset_name=[]\n",
    "data_type=[]\n",
    "task=[]\n",
    "attribute_type=[]\n",
    "no_of_instances=[]\n",
    "no_of_attribute=[]\n",
    "year=[]\n",
    "\n",
    "\n",
    "for i in driver.find_elements(By.XPATH,'//p[@class=\"normal\"]'):\n",
    "    if i.text is None:\n",
    "        dataset_name.append(\"-\")\n",
    "    else:\n",
    "        dataset_name.append(i.text)\n",
    "        \n",
    "for i in driver.find_elements(By.XPATH,):\n",
    "    if i.text is None:\n",
    "        data_type.append(\"-\")\n",
    "    else:\n",
    "        data_type.append(i.text)\n",
    "        "
   ]
  },
  {
   "cell_type": "code",
   "execution_count": 184,
   "id": "2bb90888",
   "metadata": {},
   "outputs": [],
   "source": [
    "new_list=driver.find_elements(By.XPATH,'//table[@border=\"1\"]//p')\n",
    "count=1\n",
    "for i in new_list:\n",
    "    if count==1:\n",
    "        dataset_name.append(i.text)\n",
    "        count=count+1\n",
    "    elif count ==2:\n",
    "        data_type.append(i.text)\n",
    "        count=count+1\n",
    "    elif count ==3:\n",
    "        task.append(i.text)\n",
    "        count=count+1\n",
    "    elif count ==4:\n",
    "        attribute_type.append(i.text)\n",
    "        count=count+1\n",
    "    elif count ==5:\n",
    "        no_of_instances.append(i.text)\n",
    "        count=count+1\n",
    "    elif count ==6:\n",
    "        no_of_attribute.append(i.text)\n",
    "        count=count+1\n",
    "    else:\n",
    "        year.append(i.text)\n",
    "        count=1"
   ]
  },
  {
   "cell_type": "code",
   "execution_count": 185,
   "id": "d71d61cf",
   "metadata": {},
   "outputs": [],
   "source": [
    "driver.close()"
   ]
  },
  {
   "cell_type": "markdown",
   "id": "9cb05b6a",
   "metadata": {},
   "source": [
    "# THE END"
   ]
  }
 ],
 "metadata": {
  "kernelspec": {
   "display_name": "Python 3 (ipykernel)",
   "language": "python",
   "name": "python3"
  },
  "language_info": {
   "codemirror_mode": {
    "name": "ipython",
    "version": 3
   },
   "file_extension": ".py",
   "mimetype": "text/x-python",
   "name": "python",
   "nbconvert_exporter": "python",
   "pygments_lexer": "ipython3",
   "version": "3.9.7"
  }
 },
 "nbformat": 4,
 "nbformat_minor": 5
}
