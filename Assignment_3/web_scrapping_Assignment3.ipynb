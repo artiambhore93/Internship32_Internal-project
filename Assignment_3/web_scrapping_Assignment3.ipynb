{
 "cells": [
  {
   "cell_type": "code",
   "execution_count": 1,
   "id": "6a69bbd0",
   "metadata": {},
   "outputs": [],
   "source": [
    "import pandas as pd\n",
    "import selenium\n",
    "from bs4 import BeautifulSoup\n",
    "import time\n",
    "from selenium import webdriver\n",
    "import requests\n",
    "import re\n",
    "from selenium.common.exceptions import NoSuchElementException, StaleElementReferenceException\n",
    "from selenium.webdriver.support.ui import WebDriverWait\n",
    "from selenium.webdriver.common.by import By\n",
    "import time\n",
    "import warnings\n",
    "warnings.filterwarnings('ignore')"
   ]
  },
  {
   "cell_type": "code",
   "execution_count": 2,
   "id": "d4198811",
   "metadata": {},
   "outputs": [],
   "source": [
    "driver=webdriver.Chrome(r\"C:\\Users\\artia\\OneDrive\\Documents\\selenium\\chromedriver.exe\")"
   ]
  },
  {
   "cell_type": "code",
   "execution_count": 3,
   "id": "9cc34acf",
   "metadata": {},
   "outputs": [],
   "source": [
    "driver.get(\"https://www.amazon.in/\")"
   ]
  },
  {
   "cell_type": "code",
   "execution_count": 4,
   "id": "3ea66800",
   "metadata": {},
   "outputs": [
    {
     "name": "stdout",
     "output_type": "stream",
     "text": [
      "Enter the product that we want to search : Guitar\n"
     ]
    }
   ],
   "source": [
    "Input=input('Enter the product that we want to search : ') #Searching the product"
   ]
  },
  {
   "cell_type": "code",
   "execution_count": 5,
   "id": "09139c09",
   "metadata": {},
   "outputs": [
    {
     "data": {
      "text/plain": [
       "<selenium.webdriver.remote.webelement.WebElement (session=\"3824a9898b3b13ac83ee0f2cf10badbc\", element=\"c7974db0-574c-42e5-8009-545e453eb5f3\")>"
      ]
     },
     "execution_count": 5,
     "metadata": {},
     "output_type": "execute_result"
    }
   ],
   "source": [
    "search_input=driver.find_element(By.ID,'twotabsearchtextbox')\n",
    "search_input"
   ]
  },
  {
   "cell_type": "code",
   "execution_count": 6,
   "id": "2bc5233a",
   "metadata": {},
   "outputs": [],
   "source": [
    "search_input.send_keys(Input)"
   ]
  },
  {
   "cell_type": "markdown",
   "id": "b2b702f3",
   "metadata": {},
   "source": [
    "In the above question, now scrape the following details of each product listed in first 3 pages of your \n",
    "search results and save it in a data frame and csv. In case if any product has less than 3 pages in search \n",
    "results then scrape all the products available under that product name. Details to be scraped are: \"Brand \n",
    "Name\", \"Name of the Product\", \"Price\", \"Return/Exchange\", \"Expected Delivery\", \"Availability\" and \n",
    "“Product URL”. In case, if any of the details are missing for any of the product then replace it by “-“"
   ]
  },
  {
   "cell_type": "code",
   "execution_count": 10,
   "id": "45cbbd31",
   "metadata": {},
   "outputs": [],
   "source": [
    "urls = []\n",
    "for i in range(0,3):\n",
    "    Page_urls=driver.find_elements(By.XPATH,\"//a[@class='a-link-normal s-no-outline']\")\n",
    "    for i in Page_urls:\n",
    "        urls.append(i.get_attribute('href'))\n",
    "        \n",
    "    \n",
    "    nxt_btn=driver.find_element(By.XPATH,\"//a[@class='s-pagination-item s-pagination-next s-pagination-button s-pagination-separator']\") \n",
    "    url=nxt_btn.get_attribute('href')\n",
    "    driver.get(url)\n",
    "    time.sleep(2)"
   ]
  },
  {
   "cell_type": "code",
   "execution_count": 11,
   "id": "6ce9c1be",
   "metadata": {},
   "outputs": [],
   "source": [
    "Product_name = []\n",
    "Brand_name= []\n",
    "Price = []\n",
    "Return = []\n",
    "Expected_Delivery = []\n",
    "Availability = []\n",
    "\n",
    "#Start with for loop\n",
    "for i in urls:\n",
    "    driver.get(i)\n",
    "    time.sleep(2)\n",
    "    \n",
    "    \n",
    "    #Scraping data for product name\n",
    "    try:\n",
    "        prod=driver.find_element(By.XPATH,\"//span[@id='productTitle']\")\n",
    "        Product_name.append(prod.text)\n",
    "    except NoSuchElementException as e:\n",
    "        Product_name.append(\"-\")\n",
    "        \n",
    "        \n",
    "    #Scraping data for brand name\n",
    "    try:\n",
    "        brand=driver.find_element(By.XPATH,\"//div[@id='bylineInfo_feature_div']/div/a\")\n",
    "        Brand_name.append(brand.text)\n",
    "    except NoSuchElementException as e:\n",
    "        Brand_name.append(\"-\")\n",
    "        \n",
    "          \n",
    "    #Scraping data for Price\n",
    "    try:\n",
    "        pri=driver.find_element(By.XPATH,\"//span[@id='priceblock_ourprice']\")\n",
    "        Price.append(pri.text)\n",
    "    except NoSuchElementException as e:\n",
    "        Price.append(\"-\")\n",
    "        \n",
    "        \n",
    "    #Scraping data for Return/Exchange\n",
    "    try:\n",
    "        ret=driver.find_element(By.XPATH,\"//div[@data-name='RETURNS_POLICY']/span/div[2]/a\")\n",
    "        Return.append(ret.text)\n",
    "    except NoSuchElementException as e:\n",
    "        Return.append(\"-\")\n",
    "        \n",
    "     \n",
    "    #Scraping data for Expected_Delivary\n",
    "    try:\n",
    "        delivary=driver.find_element(By.XPATH,\"//div[@id='ddmDeliveryMessage']/b\")\n",
    "        Expected_Delivery.append(delivary.text)\n",
    "    except NoSuchElementException as e:\n",
    "        Expected_Delivery.append(\"-\")\n",
    "        \n",
    "        \n",
    "    #Scraping data for Availability\n",
    "    try:\n",
    "        avai=driver.find_element(By.XPATH,\"//div[@id='availability']/span\")\n",
    "        Availability.append(avai.text)\n",
    "    except NoSuchElementException as e:\n",
    "        Availability.append(\"-\")\n",
    "        \n",
    "        \n",
    "        \n",
    "df=pd.DataFrame({})\n",
    "df['Name'] = Product_name\n",
    "df['Brand'] = Brand_name\n",
    "df['Price'] = Price\n",
    "df['Return'] = Return\n",
    "df['Expected_Delivery'] = Expected_Delivery\n",
    "df['Availability'] = Availability\n",
    "df['Urls'] = urls"
   ]
  },
  {
   "cell_type": "code",
   "execution_count": 12,
   "id": "ee0e7855",
   "metadata": {},
   "outputs": [
    {
     "data": {
      "text/html": [
       "<div>\n",
       "<style scoped>\n",
       "    .dataframe tbody tr th:only-of-type {\n",
       "        vertical-align: middle;\n",
       "    }\n",
       "\n",
       "    .dataframe tbody tr th {\n",
       "        vertical-align: top;\n",
       "    }\n",
       "\n",
       "    .dataframe thead th {\n",
       "        text-align: right;\n",
       "    }\n",
       "</style>\n",
       "<table border=\"1\" class=\"dataframe\">\n",
       "  <thead>\n",
       "    <tr style=\"text-align: right;\">\n",
       "      <th></th>\n",
       "      <th>Name</th>\n",
       "      <th>Brand</th>\n",
       "      <th>Price</th>\n",
       "      <th>Return</th>\n",
       "      <th>Expected_Delivery</th>\n",
       "      <th>Availability</th>\n",
       "      <th>Urls</th>\n",
       "    </tr>\n",
       "  </thead>\n",
       "  <tbody>\n",
       "    <tr>\n",
       "      <th>0</th>\n",
       "      <td>Kadence Slowhand Premium Jumbo Semi Acoustic G...</td>\n",
       "      <td>Visit the Kadence Store</td>\n",
       "      <td>-</td>\n",
       "      <td>7 days Replacement</td>\n",
       "      <td>Wednesday, Nov 2</td>\n",
       "      <td></td>\n",
       "      <td>https://www.amazon.in/sspa/click?ie=UTF8&amp;spc=M...</td>\n",
       "    </tr>\n",
       "    <tr>\n",
       "      <th>1</th>\n",
       "      <td>Vault EA40 41 inch Premium Solid Spruce-Top Cu...</td>\n",
       "      <td>Visit the VAULT Store</td>\n",
       "      <td>-</td>\n",
       "      <td>7 days Replacement</td>\n",
       "      <td>-</td>\n",
       "      <td>In stock.</td>\n",
       "      <td>https://www.amazon.in/sspa/click?ie=UTF8&amp;spc=M...</td>\n",
       "    </tr>\n",
       "    <tr>\n",
       "      <th>2</th>\n",
       "      <td>LUCHILA 4 String Decor Guitar Children's Music...</td>\n",
       "      <td>Brand: LUCHILA</td>\n",
       "      <td>-</td>\n",
       "      <td>7 days Returnable</td>\n",
       "      <td>-</td>\n",
       "      <td>In stock.</td>\n",
       "      <td>https://www.amazon.in/sspa/click?ie=UTF8&amp;spc=M...</td>\n",
       "    </tr>\n",
       "    <tr>\n",
       "      <th>3</th>\n",
       "      <td>Bestonl String Decor Guitar Children's Musical...</td>\n",
       "      <td>Brand: Bestonl</td>\n",
       "      <td>-</td>\n",
       "      <td>7 days Returnable</td>\n",
       "      <td>-</td>\n",
       "      <td>In stock.</td>\n",
       "      <td>https://www.amazon.in/sspa/click?ie=UTF8&amp;spc=M...</td>\n",
       "    </tr>\n",
       "    <tr>\n",
       "      <th>4</th>\n",
       "      <td>Juârez Acoustic Guitar, 38 Inch Cutaway, 038C ...</td>\n",
       "      <td>Visit the JUAREZ Store</td>\n",
       "      <td>-</td>\n",
       "      <td>7 days Replacement</td>\n",
       "      <td>-</td>\n",
       "      <td>In stock.</td>\n",
       "      <td>https://www.amazon.in/Juarez-Acoustic-Cutaway-...</td>\n",
       "    </tr>\n",
       "    <tr>\n",
       "      <th>...</th>\n",
       "      <td>...</td>\n",
       "      <td>...</td>\n",
       "      <td>...</td>\n",
       "      <td>...</td>\n",
       "      <td>...</td>\n",
       "      <td>...</td>\n",
       "      <td>...</td>\n",
       "    </tr>\n",
       "    <tr>\n",
       "      <th>156</th>\n",
       "      <td>Yamaha C 40 6 Strings Classical Guitars Right ...</td>\n",
       "      <td>Visit the YAMAHA Store</td>\n",
       "      <td>-</td>\n",
       "      <td>Returns Policy</td>\n",
       "      <td>-</td>\n",
       "      <td></td>\n",
       "      <td>https://www.amazon.in/Yamaha-40-Strings-Classi...</td>\n",
       "    </tr>\n",
       "    <tr>\n",
       "      <th>157</th>\n",
       "      <td>Jackson JS Series Dinky JS11 Electric Guitar (...</td>\n",
       "      <td>Visit the Jackson Store</td>\n",
       "      <td>-</td>\n",
       "      <td>7 days Replacement</td>\n",
       "      <td>-</td>\n",
       "      <td>Only 1 left in stock.</td>\n",
       "      <td>https://www.amazon.in/Jackson-JS-Dinky-JS11-El...</td>\n",
       "    </tr>\n",
       "    <tr>\n",
       "      <th>158</th>\n",
       "      <td>JUAREZ Arpeggio 99.06 cm (39 Inch) Semi-Acoust...</td>\n",
       "      <td>Visit the JUAREZ Store</td>\n",
       "      <td>-</td>\n",
       "      <td>7 days Replacement</td>\n",
       "      <td>-</td>\n",
       "      <td>In stock.</td>\n",
       "      <td>https://www.amazon.in/JUAREZ-Arpeggio-Semi-Aco...</td>\n",
       "    </tr>\n",
       "    <tr>\n",
       "      <th>159</th>\n",
       "      <td>Ubersweet® Imported Fisherman Folk Acoustic Gu...</td>\n",
       "      <td>Brand: ubersweet</td>\n",
       "      <td>-</td>\n",
       "      <td>10 days Returnable</td>\n",
       "      <td>-</td>\n",
       "      <td>Usually dispatched in 3 to 5 weeks.</td>\n",
       "      <td>https://www.amazon.in/Ubersweet%C2%AE-Fisherma...</td>\n",
       "    </tr>\n",
       "    <tr>\n",
       "      <th>160</th>\n",
       "      <td>Yamaha FX280 wood Semi acoustic Dreadnought Gu...</td>\n",
       "      <td>Visit the YAMAHA Store</td>\n",
       "      <td>-</td>\n",
       "      <td>7 days Replacement</td>\n",
       "      <td>-</td>\n",
       "      <td>Only 1 left in stock.</td>\n",
       "      <td>https://www.amazon.in/FX280-acoustic-Dreadnoug...</td>\n",
       "    </tr>\n",
       "  </tbody>\n",
       "</table>\n",
       "<p>161 rows × 7 columns</p>\n",
       "</div>"
      ],
      "text/plain": [
       "                                                  Name  \\\n",
       "0    Kadence Slowhand Premium Jumbo Semi Acoustic G...   \n",
       "1    Vault EA40 41 inch Premium Solid Spruce-Top Cu...   \n",
       "2    LUCHILA 4 String Decor Guitar Children's Music...   \n",
       "3    Bestonl String Decor Guitar Children's Musical...   \n",
       "4    Juârez Acoustic Guitar, 38 Inch Cutaway, 038C ...   \n",
       "..                                                 ...   \n",
       "156  Yamaha C 40 6 Strings Classical Guitars Right ...   \n",
       "157  Jackson JS Series Dinky JS11 Electric Guitar (...   \n",
       "158  JUAREZ Arpeggio 99.06 cm (39 Inch) Semi-Acoust...   \n",
       "159  Ubersweet® Imported Fisherman Folk Acoustic Gu...   \n",
       "160  Yamaha FX280 wood Semi acoustic Dreadnought Gu...   \n",
       "\n",
       "                       Brand Price              Return Expected_Delivery  \\\n",
       "0    Visit the Kadence Store     -  7 days Replacement  Wednesday, Nov 2   \n",
       "1      Visit the VAULT Store     -  7 days Replacement                 -   \n",
       "2             Brand: LUCHILA     -   7 days Returnable                 -   \n",
       "3             Brand: Bestonl     -   7 days Returnable                 -   \n",
       "4     Visit the JUAREZ Store     -  7 days Replacement                 -   \n",
       "..                       ...   ...                 ...               ...   \n",
       "156   Visit the YAMAHA Store     -      Returns Policy                 -   \n",
       "157  Visit the Jackson Store     -  7 days Replacement                 -   \n",
       "158   Visit the JUAREZ Store     -  7 days Replacement                 -   \n",
       "159         Brand: ubersweet     -  10 days Returnable                 -   \n",
       "160   Visit the YAMAHA Store     -  7 days Replacement                 -   \n",
       "\n",
       "                            Availability  \\\n",
       "0                                          \n",
       "1                              In stock.   \n",
       "2                              In stock.   \n",
       "3                              In stock.   \n",
       "4                              In stock.   \n",
       "..                                   ...   \n",
       "156                                        \n",
       "157                Only 1 left in stock.   \n",
       "158                            In stock.   \n",
       "159  Usually dispatched in 3 to 5 weeks.   \n",
       "160                Only 1 left in stock.   \n",
       "\n",
       "                                                  Urls  \n",
       "0    https://www.amazon.in/sspa/click?ie=UTF8&spc=M...  \n",
       "1    https://www.amazon.in/sspa/click?ie=UTF8&spc=M...  \n",
       "2    https://www.amazon.in/sspa/click?ie=UTF8&spc=M...  \n",
       "3    https://www.amazon.in/sspa/click?ie=UTF8&spc=M...  \n",
       "4    https://www.amazon.in/Juarez-Acoustic-Cutaway-...  \n",
       "..                                                 ...  \n",
       "156  https://www.amazon.in/Yamaha-40-Strings-Classi...  \n",
       "157  https://www.amazon.in/Jackson-JS-Dinky-JS11-El...  \n",
       "158  https://www.amazon.in/JUAREZ-Arpeggio-Semi-Aco...  \n",
       "159  https://www.amazon.in/Ubersweet%C2%AE-Fisherma...  \n",
       "160  https://www.amazon.in/FX280-acoustic-Dreadnoug...  \n",
       "\n",
       "[161 rows x 7 columns]"
      ]
     },
     "execution_count": 12,
     "metadata": {},
     "output_type": "execute_result"
    }
   ],
   "source": [
    "df"
   ]
  },
  {
   "cell_type": "code",
   "execution_count": 13,
   "id": "9d8ada28",
   "metadata": {},
   "outputs": [],
   "source": [
    "df.to_csv('Amazon_{}.csv'.format(Input))"
   ]
  },
  {
   "cell_type": "markdown",
   "id": "a4ecb93a",
   "metadata": {},
   "source": [
    "3. Write a python program to access the search bar and search button on images.google.com and scrape 10\n",
    "images each for keywords ‘fruits’, ‘cars’ and ‘Machine Learning’, ‘Guitar’, ‘Cakes’."
   ]
  },
  {
   "cell_type": "code",
   "execution_count": 14,
   "id": "457f6a06",
   "metadata": {},
   "outputs": [],
   "source": [
    "driver=webdriver.Chrome(r\"C:\\Users\\artia\\OneDrive\\Documents\\selenium\\chromedriver.exe\")"
   ]
  },
  {
   "cell_type": "code",
   "execution_count": 53,
   "id": "21e39302",
   "metadata": {},
   "outputs": [],
   "source": [
    "driver.get(\"https://images.google.com/\")\n",
    "Search=driver.find_element(By.XPATH,'//input[@class=\"gLFyf gsfi\"]')\n",
    "Search.send_keys('fruits')\n",
    "search_results=driver.find_element(By.XPATH,'//span[@class=\"z1asCe MZy1Rb\"]')\n",
    "search_results.click()\n",
    "Fruits_img=[]\n",
    "Fruits_img=driver.find_elements(By.XPATH,'//img[@class=\"rg_i Q4LuWd\"]')\n",
    "for i in Fruits_img[0:10]:\n",
    "    fruits=i.get_attribute('src')\n",
    "    if fruits is not None:\n",
    "        if(fruits[0:4] == 'http'):\n",
    "            Fruits_img.append(fruits)"
   ]
  },
  {
   "cell_type": "code",
   "execution_count": 54,
   "id": "ad6d88ef",
   "metadata": {},
   "outputs": [],
   "source": [
    "driver.get(\"https://images.google.com/\")\n",
    "Search=driver.find_element(By.XPATH,'//input[@class=\"gLFyf gsfi\"]')\n",
    "Search.send_keys('Cars')\n",
    "search_results=driver.find_element(By.XPATH,'//span[@class=\"z1asCe MZy1Rb\"]')\n",
    "search_results.click()\n",
    "Cars_img=[]\n",
    "Cars_img=driver.find_elements(By.XPATH,'//img[@class=\"rg_i Q4LuWd\"]')\n",
    "for i in Cars_img[0:10]:\n",
    "    cars=i.get_attribute('src')\n",
    "    if cars is not None:\n",
    "        if(cars[0:4] == 'http'):\n",
    "            Cars_img.append(cars)"
   ]
  },
  {
   "cell_type": "code",
   "execution_count": 55,
   "id": "0834f754",
   "metadata": {},
   "outputs": [],
   "source": [
    "driver.get(\"https://images.google.com/\")\n",
    "Search=driver.find_element(By.XPATH,'//input[@class=\"gLFyf gsfi\"]')\n",
    "Search.send_keys('Machine Learning')\n",
    "search_results=driver.find_element(By.XPATH,'//span[@class=\"z1asCe MZy1Rb\"]')\n",
    "search_results.click()\n",
    "ML_img=[]\n",
    "ML_img=driver.find_elements(By.XPATH,'//img[@class=\"rg_i Q4LuWd\"]')\n",
    "for i in ML_img[0:10]:\n",
    "    ml=i.get_attribute('src')\n",
    "    if ml is not None:\n",
    "        if(ml[0:4] == 'http'):\n",
    "            ML_img.append(ml)"
   ]
  },
  {
   "cell_type": "code",
   "execution_count": 56,
   "id": "b008576a",
   "metadata": {},
   "outputs": [],
   "source": [
    "driver.get(\"https://images.google.com/\")\n",
    "Search=driver.find_element(By.XPATH,'//input[@class=\"gLFyf gsfi\"]')\n",
    "Search.send_keys('Guitar')\n",
    "search_results=driver.find_element(By.XPATH,'//span[@class=\"z1asCe MZy1Rb\"]')\n",
    "search_results.click()\n",
    "Guitar_img=[]\n",
    "Guitar_img=driver.find_elements(By.XPATH,'//img[@class=\"rg_i Q4LuWd\"]')\n",
    "for i in Guitar_img[0:10]:\n",
    "    guitar=i.get_attribute('src')\n",
    "    if guitar is not None:\n",
    "        if(guitar[0:4] == 'http'):\n",
    "            Guitar_img.append(guitar)"
   ]
  },
  {
   "cell_type": "code",
   "execution_count": 57,
   "id": "d5df1419",
   "metadata": {},
   "outputs": [],
   "source": [
    "driver.get(\"https://images.google.com/\")\n",
    "Search=driver.find_element(By.XPATH,'//input[@class=\"gLFyf gsfi\"]')\n",
    "Search.send_keys('Cakes')\n",
    "search_results=driver.find_element(By.XPATH,'//span[@class=\"z1asCe MZy1Rb\"]')\n",
    "search_results.click()\n",
    "Cakes_img=[]\n",
    "Cakes_img=driver.find_elements(By.XPATH,'//img[@class=\"rg_i Q4LuWd\"]')\n",
    "for i in Cakes_img[0:10]:\n",
    "    cakes=i.get_attribute('src')\n",
    "    if cakes is not None:\n",
    "        if(cakes[0:4] == 'http'):\n",
    "            Cakes_img.append(cakes)"
   ]
  },
  {
   "cell_type": "code",
   "execution_count": 58,
   "id": "4da89d70",
   "metadata": {},
   "outputs": [
    {
     "name": "stdout",
     "output_type": "stream",
     "text": [
      "48 48 48 48 48\n"
     ]
    }
   ],
   "source": [
    "print(len(Fruits_img),len(Cars_img),len(ML_img),len(Guitar_img),len(Cakes_img))"
   ]
  },
  {
   "cell_type": "code",
   "execution_count": 59,
   "id": "33e6913e",
   "metadata": {},
   "outputs": [
    {
     "name": "stdout",
     "output_type": "stream",
     "text": [
      "10 10 10 10 10\n"
     ]
    }
   ],
   "source": [
    "print(len(Fruits_img[:10]),len(Cars_img[:10]),len(ML_img[:10]),len(Guitar_img[:10]),len(Cakes_img[:10]))\n"
   ]
  },
  {
   "cell_type": "markdown",
   "id": "2962efaf",
   "metadata": {},
   "source": [
    "4. Write a python program to search for a smartphone(e.g.: Oneplus Nord, pixel 4A, etc.) on\n",
    "www.flipkart.com and scrape following details for all the search results displayed on 1st page. Details to be \n",
    "scraped: “Brand Name”, “Smartphone name”, “Colour”, “RAM”, “Storage(ROM)”, “Primary Camera”, \n",
    "“Secondary Camera”, “Display Size”, “Battery Capacity”, “Price”, “Product URL”. Incase if any of the \n",
    "details is missing then replace it by “- “. Save your results in a dataframe and CSV.\n"
   ]
  },
  {
   "cell_type": "code",
   "execution_count": 65,
   "id": "da4607d4",
   "metadata": {},
   "outputs": [],
   "source": [
    "driver=webdriver.Chrome(r\"C:\\Users\\artia\\OneDrive\\Documents\\selenium\\chromedriver.exe\")"
   ]
  },
  {
   "cell_type": "code",
   "execution_count": 66,
   "id": "855ad303",
   "metadata": {},
   "outputs": [],
   "source": [
    "driver.get('https://www.flipkart.com/')"
   ]
  },
  {
   "cell_type": "code",
   "execution_count": 68,
   "id": "ee5532c7",
   "metadata": {},
   "outputs": [],
   "source": [
    "user_input=driver.find_element(By.XPATH,'//input[@class=\"_3704LK\"]')\n",
    "user_input.send_keys('Smartphones')"
   ]
  },
  {
   "cell_type": "code",
   "execution_count": 72,
   "id": "ce58a1f1",
   "metadata": {},
   "outputs": [],
   "source": [
    "search=driver.find_element(By.XPATH,'//button[@class=\"L0Z3Pu\"]')\n",
    "search.click()"
   ]
  },
  {
   "cell_type": "code",
   "execution_count": 81,
   "id": "9e8581f9",
   "metadata": {},
   "outputs": [],
   "source": [
    "df1 = {}\n",
    "df1[\"Brand\"] = []\n",
    "df1[\"Phone name\"] = []\n",
    "df1[\"Colour\"] = []\n",
    "df1[\"RAM\"] = []\n",
    "df1[\"Storage(ROM)\"] = []\n",
    "df1[\"Primary Camera\"] = []\n",
    "df1[\"Secondary Camera\"] = []\n",
    "df1[\"Display Size\"] = []\n",
    "df1[\"Battery Capacity\"] = []\n",
    "df1[\"Price\"] = []\n",
    "df1[\"URL\"] = []"
   ]
  },
  {
   "cell_type": "code",
   "execution_count": 104,
   "id": "dca0ce98",
   "metadata": {},
   "outputs": [],
   "source": [
    "brand_tags = driver.find_element(By.XPATH,'//div[@class=\"_4rR01T\"]')      \n",
    "df1[\"Brand\"].append(brand_tags.text.split()[0])\n",
    "\n",
    "name_tags = driver.find_element(By.XPATH,'//div[@class=\"_4rR01T\"]')     \n",
    "df1[\"Phone name\"].append(name_tags.text)\n",
    "    \n",
    "color_tags = driver.find_element(By.XPATH,'//div[@class=\"_4rR01T\"]')      \n",
    "df1[\"Colour\"] .append(color_tags.text.split()[1])"
   ]
  },
  {
   "cell_type": "code",
   "execution_count": 105,
   "id": "fdd82ae5",
   "metadata": {},
   "outputs": [
    {
     "name": "stdout",
     "output_type": "stream",
     "text": [
      "['SAMSUNG', 'SAMSUNG', 'SAMSUNG', 'SAMSUNG', 'SAMSUNG', 'SAMSUNG']\n"
     ]
    }
   ],
   "source": [
    "print(df1[\"Brand\"])"
   ]
  },
  {
   "cell_type": "code",
   "execution_count": 106,
   "id": "5cee6275",
   "metadata": {},
   "outputs": [
    {
     "data": {
      "text/plain": [
       "['SAMSUNG Galaxy F13 (Waterfall Blue, 64 GB)',\n",
       " 'SAMSUNG Galaxy F13 (Waterfall Blue, 64 GB)']"
      ]
     },
     "execution_count": 106,
     "metadata": {},
     "output_type": "execute_result"
    }
   ],
   "source": [
    "df1[\"Phone name\"]"
   ]
  },
  {
   "cell_type": "code",
   "execution_count": 107,
   "id": "03fbd49b",
   "metadata": {},
   "outputs": [
    {
     "data": {
      "text/plain": [
       "['Galaxy']"
      ]
     },
     "execution_count": 107,
     "metadata": {},
     "output_type": "execute_result"
    }
   ],
   "source": [
    "df1[\"Colour\"] "
   ]
  },
  {
   "cell_type": "markdown",
   "id": "68604982",
   "metadata": {},
   "source": [
    "5. Write a program to scrap geospatial coordinates (latitude, longitude) of a city searched on google\n",
    "maps.\n"
   ]
  },
  {
   "cell_type": "code",
   "execution_count": 116,
   "id": "e12b16c9",
   "metadata": {},
   "outputs": [
    {
     "name": "stdout",
     "output_type": "stream",
     "text": [
      "Enter City name that has to be searched : Bangalore\n",
      "URL Extracted:  https://www.google.co.in/maps/place/Bengaluru,+Karnataka/@12.9538477,77.3507372,10z/data=!3m1!4b1!4m5!3m4!1s0x3bae1670c9b44e6d:0xf8dfc3e8517e4fe0!8m2!3d12.9715987!4d77.5945627\n",
      "Latitude = 12.9538477, Longitude = 77.3507372\n"
     ]
    }
   ],
   "source": [
    "# Activating the chrome browser\n",
    "driver=webdriver.Chrome(r\"C:\\Users\\artia\\OneDrive\\Documents\\selenium\\chromedriver.exe\")\n",
    "time.sleep(2)\n",
    "\n",
    "# opening google maps web page\n",
    "url = \"https://www.google.co.in/maps\"\n",
    "driver.get(url)\n",
    "time.sleep(2)\n",
    "\n",
    "#Sending keyword for seach bar and search button\n",
    "city = input('Enter City name that has to be searched : ')\n",
    "search_bar = driver.find_element(By.ID,\"searchboxinput\")                       \n",
    "search_bar.clear()                                                             \n",
    "time.sleep(2)\n",
    "search_bar.send_keys(city)                                                     \n",
    "search_btn = driver.find_element(By.ID,\"searchbox-searchbutton\")              \n",
    "search_btn.click()                                                             \n",
    "time.sleep(3)\n",
    "\n",
    "url_str = driver.current_url\n",
    "print(\"URL Extracted: \", url_str)\n",
    "latitude_longitude = re.findall(r'@(.*)data',url_str)\n",
    "if len(latitude_longitude):\n",
    "        lat_lng_list = latitude_longitude[0].split(\",\")\n",
    "        if len(lat_lng_list)>=2:\n",
    "            latitude = lat_lng_list[0]\n",
    "            longitude = lat_lng_list[1]\n",
    "        print(\"Latitude = {}, Longitude = {}\".format(latitude, longitude))\n"
   ]
  },
  {
   "cell_type": "markdown",
   "id": "b8771711",
   "metadata": {},
   "source": [
    "6. Write a program to scrap details of all the funding deals for second quarter (i.e Jan 21 – March 21) \n",
    "from trak.in."
   ]
  },
  {
   "cell_type": "markdown",
   "id": "92111865",
   "metadata": {},
   "source": [
    "7. Write a program to scrap all the available details of best gaming laptops from digit.in.\n"
   ]
  },
  {
   "cell_type": "code",
   "execution_count": 120,
   "id": "d388889d",
   "metadata": {},
   "outputs": [
    {
     "ename": "NoSuchElementException",
     "evalue": "Message: no such element: Unable to locate element: {\"method\":\"xpath\",\"selector\":\"/html/body/div[1]/div[2]/div[4]/ul/li[4]/a\"}\n  (Session info: chrome=106.0.5249.119)\nStacktrace:\nBacktrace:\n\tOrdinal0 [0x00AEDF13+2219795]\n\tOrdinal0 [0x00A82841+1779777]\n\tOrdinal0 [0x0099423D+803389]\n\tOrdinal0 [0x009C3025+995365]\n\tOrdinal0 [0x009C31EB+995819]\n\tOrdinal0 [0x009F0F52+1183570]\n\tOrdinal0 [0x009DE844+1108036]\n\tOrdinal0 [0x009EF192+1175954]\n\tOrdinal0 [0x009DE616+1107478]\n\tOrdinal0 [0x009B7F89+950153]\n\tOrdinal0 [0x009B8F56+954198]\n\tGetHandleVerifier [0x00DE2CB2+3040210]\n\tGetHandleVerifier [0x00DD2BB4+2974420]\n\tGetHandleVerifier [0x00B86A0A+565546]\n\tGetHandleVerifier [0x00B85680+560544]\n\tOrdinal0 [0x00A89A5C+1808988]\n\tOrdinal0 [0x00A8E3A8+1827752]\n\tOrdinal0 [0x00A8E495+1827989]\n\tOrdinal0 [0x00A980A4+1867940]\n\tBaseThreadInitThunk [0x76106739+25]\n\tRtlGetFullPathName_UEx [0x76F28FD2+1218]\n\tRtlGetFullPathName_UEx [0x76F28F9D+1165]\n",
     "output_type": "error",
     "traceback": [
      "\u001b[1;31m---------------------------------------------------------------------------\u001b[0m",
      "\u001b[1;31mNoSuchElementException\u001b[0m                    Traceback (most recent call last)",
      "\u001b[1;32m~\\AppData\\Local\\Temp/ipykernel_22560/513454790.py\u001b[0m in \u001b[0;36m<module>\u001b[1;34m\u001b[0m\n\u001b[0;32m     10\u001b[0m \u001b[1;33m\u001b[0m\u001b[0m\n\u001b[0;32m     11\u001b[0m \u001b[1;31m#clicking on top 10 option\u001b[0m\u001b[1;33m\u001b[0m\u001b[1;33m\u001b[0m\u001b[0m\n\u001b[1;32m---> 12\u001b[1;33m \u001b[0mtop_10\u001b[0m\u001b[1;33m=\u001b[0m\u001b[0mdriver\u001b[0m\u001b[1;33m.\u001b[0m\u001b[0mfind_element\u001b[0m\u001b[1;33m(\u001b[0m\u001b[0mBy\u001b[0m\u001b[1;33m.\u001b[0m\u001b[0mXPATH\u001b[0m\u001b[1;33m,\u001b[0m\u001b[1;34m\"/html/body/div[1]/div[2]/div[4]/ul/li[4]/a\"\u001b[0m\u001b[1;33m)\u001b[0m\u001b[1;33m\u001b[0m\u001b[1;33m\u001b[0m\u001b[0m\n\u001b[0m\u001b[0;32m     13\u001b[0m \u001b[0mtop_10\u001b[0m\u001b[1;33m.\u001b[0m\u001b[0mclick\u001b[0m\u001b[1;33m(\u001b[0m\u001b[1;33m)\u001b[0m\u001b[1;33m\u001b[0m\u001b[1;33m\u001b[0m\u001b[0m\n\u001b[0;32m     14\u001b[0m \u001b[1;33m\u001b[0m\u001b[0m\n",
      "\u001b[1;32m~\\anaconda3\\lib\\site-packages\\selenium\\webdriver\\remote\\webdriver.py\u001b[0m in \u001b[0;36mfind_element\u001b[1;34m(self, by, value)\u001b[0m\n\u001b[0;32m    854\u001b[0m             \u001b[0mvalue\u001b[0m \u001b[1;33m=\u001b[0m \u001b[1;34m'[name=\"%s\"]'\u001b[0m \u001b[1;33m%\u001b[0m \u001b[0mvalue\u001b[0m\u001b[1;33m\u001b[0m\u001b[1;33m\u001b[0m\u001b[0m\n\u001b[0;32m    855\u001b[0m \u001b[1;33m\u001b[0m\u001b[0m\n\u001b[1;32m--> 856\u001b[1;33m         return self.execute(Command.FIND_ELEMENT, {\n\u001b[0m\u001b[0;32m    857\u001b[0m             \u001b[1;34m'using'\u001b[0m\u001b[1;33m:\u001b[0m \u001b[0mby\u001b[0m\u001b[1;33m,\u001b[0m\u001b[1;33m\u001b[0m\u001b[1;33m\u001b[0m\u001b[0m\n\u001b[0;32m    858\u001b[0m             'value': value})['value']\n",
      "\u001b[1;32m~\\anaconda3\\lib\\site-packages\\selenium\\webdriver\\remote\\webdriver.py\u001b[0m in \u001b[0;36mexecute\u001b[1;34m(self, driver_command, params)\u001b[0m\n\u001b[0;32m    427\u001b[0m         \u001b[0mresponse\u001b[0m \u001b[1;33m=\u001b[0m \u001b[0mself\u001b[0m\u001b[1;33m.\u001b[0m\u001b[0mcommand_executor\u001b[0m\u001b[1;33m.\u001b[0m\u001b[0mexecute\u001b[0m\u001b[1;33m(\u001b[0m\u001b[0mdriver_command\u001b[0m\u001b[1;33m,\u001b[0m \u001b[0mparams\u001b[0m\u001b[1;33m)\u001b[0m\u001b[1;33m\u001b[0m\u001b[1;33m\u001b[0m\u001b[0m\n\u001b[0;32m    428\u001b[0m         \u001b[1;32mif\u001b[0m \u001b[0mresponse\u001b[0m\u001b[1;33m:\u001b[0m\u001b[1;33m\u001b[0m\u001b[1;33m\u001b[0m\u001b[0m\n\u001b[1;32m--> 429\u001b[1;33m             \u001b[0mself\u001b[0m\u001b[1;33m.\u001b[0m\u001b[0merror_handler\u001b[0m\u001b[1;33m.\u001b[0m\u001b[0mcheck_response\u001b[0m\u001b[1;33m(\u001b[0m\u001b[0mresponse\u001b[0m\u001b[1;33m)\u001b[0m\u001b[1;33m\u001b[0m\u001b[1;33m\u001b[0m\u001b[0m\n\u001b[0m\u001b[0;32m    430\u001b[0m             response['value'] = self._unwrap_value(\n\u001b[0;32m    431\u001b[0m                 response.get('value', None))\n",
      "\u001b[1;32m~\\anaconda3\\lib\\site-packages\\selenium\\webdriver\\remote\\errorhandler.py\u001b[0m in \u001b[0;36mcheck_response\u001b[1;34m(self, response)\u001b[0m\n\u001b[0;32m    241\u001b[0m                 \u001b[0malert_text\u001b[0m \u001b[1;33m=\u001b[0m \u001b[0mvalue\u001b[0m\u001b[1;33m[\u001b[0m\u001b[1;34m'alert'\u001b[0m\u001b[1;33m]\u001b[0m\u001b[1;33m.\u001b[0m\u001b[0mget\u001b[0m\u001b[1;33m(\u001b[0m\u001b[1;34m'text'\u001b[0m\u001b[1;33m)\u001b[0m\u001b[1;33m\u001b[0m\u001b[1;33m\u001b[0m\u001b[0m\n\u001b[0;32m    242\u001b[0m             \u001b[1;32mraise\u001b[0m \u001b[0mexception_class\u001b[0m\u001b[1;33m(\u001b[0m\u001b[0mmessage\u001b[0m\u001b[1;33m,\u001b[0m \u001b[0mscreen\u001b[0m\u001b[1;33m,\u001b[0m \u001b[0mstacktrace\u001b[0m\u001b[1;33m,\u001b[0m \u001b[0malert_text\u001b[0m\u001b[1;33m)\u001b[0m  \u001b[1;31m# type: ignore[call-arg]  # mypy is not smart enough here\u001b[0m\u001b[1;33m\u001b[0m\u001b[1;33m\u001b[0m\u001b[0m\n\u001b[1;32m--> 243\u001b[1;33m         \u001b[1;32mraise\u001b[0m \u001b[0mexception_class\u001b[0m\u001b[1;33m(\u001b[0m\u001b[0mmessage\u001b[0m\u001b[1;33m,\u001b[0m \u001b[0mscreen\u001b[0m\u001b[1;33m,\u001b[0m \u001b[0mstacktrace\u001b[0m\u001b[1;33m)\u001b[0m\u001b[1;33m\u001b[0m\u001b[1;33m\u001b[0m\u001b[0m\n\u001b[0m",
      "\u001b[1;31mNoSuchElementException\u001b[0m: Message: no such element: Unable to locate element: {\"method\":\"xpath\",\"selector\":\"/html/body/div[1]/div[2]/div[4]/ul/li[4]/a\"}\n  (Session info: chrome=106.0.5249.119)\nStacktrace:\nBacktrace:\n\tOrdinal0 [0x00AEDF13+2219795]\n\tOrdinal0 [0x00A82841+1779777]\n\tOrdinal0 [0x0099423D+803389]\n\tOrdinal0 [0x009C3025+995365]\n\tOrdinal0 [0x009C31EB+995819]\n\tOrdinal0 [0x009F0F52+1183570]\n\tOrdinal0 [0x009DE844+1108036]\n\tOrdinal0 [0x009EF192+1175954]\n\tOrdinal0 [0x009DE616+1107478]\n\tOrdinal0 [0x009B7F89+950153]\n\tOrdinal0 [0x009B8F56+954198]\n\tGetHandleVerifier [0x00DE2CB2+3040210]\n\tGetHandleVerifier [0x00DD2BB4+2974420]\n\tGetHandleVerifier [0x00B86A0A+565546]\n\tGetHandleVerifier [0x00B85680+560544]\n\tOrdinal0 [0x00A89A5C+1808988]\n\tOrdinal0 [0x00A8E3A8+1827752]\n\tOrdinal0 [0x00A8E495+1827989]\n\tOrdinal0 [0x00A980A4+1867940]\n\tBaseThreadInitThunk [0x76106739+25]\n\tRtlGetFullPathName_UEx [0x76F28FD2+1218]\n\tRtlGetFullPathName_UEx [0x76F28F9D+1165]\n"
     ]
    }
   ],
   "source": [
    "# Activating the chrome browser\n",
    "driver=webdriver.Chrome(r\"C:\\Users\\artia\\OneDrive\\Documents\\selenium\\chromedriver.exe\")\n",
    "time.sleep(2)\n",
    "\n",
    "\n",
    "# opening www.digit.in\n",
    "url = \"https://www.digit.in/\"\n",
    "driver.get(url)\n",
    "time.sleep(2)\n",
    "\n",
    "#clicking on top 10 option \n",
    "top_10=driver.find_element(By.XPATH,\"/html/body/div[1]/div[2]/div[4]/ul/li[4]/a\")\n",
    "top_10.click()\n",
    "\n",
    "time.sleep(2)\n",
    "#clicking on laptops option\n",
    "laptops=driver.find_element(By.XPATH,\"/html/body/div[3]/div/div/div[2]/div[5]/div[1]/div/button[2]\")\n",
    "laptops.click()\n",
    "\n",
    "time.sleep(2)\n",
    "#best gaming laptops link\n",
    "best_gaming=driver.find_element(By.XPATH,\"//div[@id='laptops']//div[3]//a\")\n",
    "driver.get(best_gaming.get_attribute('href'))\n",
    "\n",
    "#intialising lists\n",
    "name = []\n",
    "Price = []\n",
    "OS = []\n",
    "display = []\n",
    "processor = []\n",
    "HDD = []\n",
    "RAM = []\n",
    "weight = []\n",
    "dimension = []\n",
    "GPU = []\n",
    "\n",
    "time.sleep(1)\n",
    "#scraping names\n",
    "names=driver.find_elements(By.XPATH,\"//div[@class='right-container']/div/a/h3\")\n",
    "for i in names:\n",
    "    name.append(i.text)\n",
    "\n",
    "time.sleep(1)\n",
    "#scraping operating system\n",
    "os=driver.find_elements(By.XPATH,\"//div[@class='product-detail']/div/ul/li[1]/div/div\")\n",
    "for i in os:\n",
    "    OS.append(i.text)\n",
    "\n",
    "time.sleep(1)\n",
    "#scraping display\n",
    "displays=driver.find_elements(By.XPATH,\"//div[@class='product-detail']/div/ul/li[2]/div/div\")\n",
    "for i in displays:\n",
    "    display.append(i.text)\n",
    "\n",
    "time.sleep(1)\n",
    "#scraping processor\n",
    "processors=driver.find_elements(By.XPATH,\"//div[@class='product-detail']/div/ul/li[3]/div/div\")\n",
    "for i in processors:\n",
    "    processor.append(i.text)\n",
    "\n",
    "time.sleep(1)\n",
    "# scraping memory\n",
    "memories=driver.find_elements(By.XPATH,\"//div[@class='Spcs-details'][1]/table/tbody/tr[6]/td[3]\")# extrat HDD and RAM form xpath\n",
    "for i in memories:\n",
    "    HDD.append(i.text.split(\"/\")[0])\n",
    "    RAM.append(i.text.split(\"/\")[1])\n",
    "\n",
    "time.sleep(1)\n",
    "# scraping weight\n",
    "weights=driver.find_elements(By.XPATH,\"//div[@class='Spcs-details'][1]/table/tbody/tr[7]/td[3]\")# extrat weight form xpath\n",
    "for i in weights:\n",
    "    weight.append(i.text)\n",
    "\n",
    "time.sleep(1)\n",
    "# scraping dimension\n",
    "dimension=[]\n",
    "dimensions=driver.find_elements(By.XPATH,\"//div[@class='Spcs-details'][1]/table/tbody/tr[8]/td[3]\") \n",
    "for i in dimensions:\n",
    "    dimension.append(i.text)\n",
    "\n",
    "time.sleep(1)\n",
    "# scraping graphical processor\n",
    "GPUs=driver.find_elements_by_xpath(\"//div[@class='Spcs-details'][1]/table/tbody/tr[9]/td[3]\") \n",
    "for i in GPUs:\n",
    "    GPU.append(i.text)\n",
    "\n",
    "time.sleep(1)\n",
    "\n",
    "#scraping price\n",
    "price=driver.find_elements_by_xpath(\"//table[@id='summtable']//tr//td[3]\")\n",
    "for i in price:\n",
    "    Price.append(i.text)\n",
    "\n",
    "#Make data frame\n",
    "df=pd.DataFrame({\"Name\":name,\n",
    "                \"price\":Price,\n",
    "                \"OS\":OS,\n",
    "                \"Display\":display,\n",
    "                \"HDD\":HDD,\n",
    "                 \"RAM\":RAM,\n",
    "                \"processor\":processor,\n",
    "                \"weight\":weight,\n",
    "                \"Dimension\":dimension,\n",
    "                \"Graphical processor\":GPU})\n",
    "df"
   ]
  },
  {
   "cell_type": "markdown",
   "id": "94d73877",
   "metadata": {},
   "source": [
    "9. Write a program to extract at least 500 Comments, Comment upvote and time when comment was posted \n",
    "from any YouTube Video."
   ]
  },
  {
   "cell_type": "code",
   "execution_count": 127,
   "id": "55130d50",
   "metadata": {},
   "outputs": [
    {
     "ename": "ElementNotInteractableException",
     "evalue": "Message: element not interactable\n  (Session info: chrome=106.0.5249.119)\nStacktrace:\nBacktrace:\n\tOrdinal0 [0x00AEDF13+2219795]\n\tOrdinal0 [0x00A82841+1779777]\n\tOrdinal0 [0x00994100+803072]\n\tOrdinal0 [0x009BE523+976163]\n\tOrdinal0 [0x009BDB93+973715]\n\tOrdinal0 [0x009DE7FC+1107964]\n\tOrdinal0 [0x009B94B4+955572]\n\tOrdinal0 [0x009DEA14+1108500]\n\tOrdinal0 [0x009EF192+1175954]\n\tOrdinal0 [0x009DE616+1107478]\n\tOrdinal0 [0x009B7F89+950153]\n\tOrdinal0 [0x009B8F56+954198]\n\tGetHandleVerifier [0x00DE2CB2+3040210]\n\tGetHandleVerifier [0x00DD2BB4+2974420]\n\tGetHandleVerifier [0x00B86A0A+565546]\n\tGetHandleVerifier [0x00B85680+560544]\n\tOrdinal0 [0x00A89A5C+1808988]\n\tOrdinal0 [0x00A8E3A8+1827752]\n\tOrdinal0 [0x00A8E495+1827989]\n\tOrdinal0 [0x00A980A4+1867940]\n\tBaseThreadInitThunk [0x76106739+25]\n\tRtlGetFullPathName_UEx [0x76F28FD2+1218]\n\tRtlGetFullPathName_UEx [0x76F28F9D+1165]\n",
     "output_type": "error",
     "traceback": [
      "\u001b[1;31m---------------------------------------------------------------------------\u001b[0m",
      "\u001b[1;31mElementNotInteractableException\u001b[0m           Traceback (most recent call last)",
      "\u001b[1;32m~\\AppData\\Local\\Temp/ipykernel_22560/2228338434.py\u001b[0m in \u001b[0;36m<module>\u001b[1;34m\u001b[0m\n\u001b[0;32m     10\u001b[0m \u001b[1;31m#finding element for search bar\u001b[0m\u001b[1;33m\u001b[0m\u001b[1;33m\u001b[0m\u001b[0m\n\u001b[0;32m     11\u001b[0m \u001b[0msearch\u001b[0m \u001b[1;33m=\u001b[0m \u001b[0mdriver\u001b[0m\u001b[1;33m.\u001b[0m\u001b[0mfind_element\u001b[0m\u001b[1;33m(\u001b[0m\u001b[0mBy\u001b[0m\u001b[1;33m.\u001b[0m\u001b[0mCLASS_NAME\u001b[0m\u001b[1;33m,\u001b[0m\u001b[1;34m'ytd-searchbox-spt'\u001b[0m\u001b[1;33m)\u001b[0m\u001b[1;33m\u001b[0m\u001b[1;33m\u001b[0m\u001b[0m\n\u001b[1;32m---> 12\u001b[1;33m \u001b[0msearch\u001b[0m\u001b[1;33m.\u001b[0m\u001b[0msend_keys\u001b[0m\u001b[1;33m(\u001b[0m\u001b[1;34m'Mirzapur'\u001b[0m\u001b[1;33m)\u001b[0m\u001b[1;33m\u001b[0m\u001b[1;33m\u001b[0m\u001b[0m\n\u001b[0m\u001b[0;32m     13\u001b[0m \u001b[0mtime\u001b[0m\u001b[1;33m.\u001b[0m\u001b[0msleep\u001b[0m\u001b[1;33m(\u001b[0m\u001b[1;36m1\u001b[0m\u001b[1;33m)\u001b[0m\u001b[1;33m\u001b[0m\u001b[1;33m\u001b[0m\u001b[0m\n\u001b[0;32m     14\u001b[0m \u001b[1;33m\u001b[0m\u001b[0m\n",
      "\u001b[1;32m~\\anaconda3\\lib\\site-packages\\selenium\\webdriver\\remote\\webelement.py\u001b[0m in \u001b[0;36msend_keys\u001b[1;34m(self, *value)\u001b[0m\n\u001b[0;32m    221\u001b[0m                 \u001b[0mvalue\u001b[0m \u001b[1;33m=\u001b[0m \u001b[1;34m'\\n'\u001b[0m\u001b[1;33m.\u001b[0m\u001b[0mjoin\u001b[0m\u001b[1;33m(\u001b[0m\u001b[0mremote_files\u001b[0m\u001b[1;33m)\u001b[0m\u001b[1;33m\u001b[0m\u001b[1;33m\u001b[0m\u001b[0m\n\u001b[0;32m    222\u001b[0m \u001b[1;33m\u001b[0m\u001b[0m\n\u001b[1;32m--> 223\u001b[1;33m         self._execute(Command.SEND_KEYS_TO_ELEMENT,\n\u001b[0m\u001b[0;32m    224\u001b[0m                       {'text': \"\".join(keys_to_typing(value)),\n\u001b[0;32m    225\u001b[0m                        'value': keys_to_typing(value)})\n",
      "\u001b[1;32m~\\anaconda3\\lib\\site-packages\\selenium\\webdriver\\remote\\webelement.py\u001b[0m in \u001b[0;36m_execute\u001b[1;34m(self, command, params)\u001b[0m\n\u001b[0;32m    394\u001b[0m             \u001b[0mparams\u001b[0m \u001b[1;33m=\u001b[0m \u001b[1;33m{\u001b[0m\u001b[1;33m}\u001b[0m\u001b[1;33m\u001b[0m\u001b[1;33m\u001b[0m\u001b[0m\n\u001b[0;32m    395\u001b[0m         \u001b[0mparams\u001b[0m\u001b[1;33m[\u001b[0m\u001b[1;34m'id'\u001b[0m\u001b[1;33m]\u001b[0m \u001b[1;33m=\u001b[0m \u001b[0mself\u001b[0m\u001b[1;33m.\u001b[0m\u001b[0m_id\u001b[0m\u001b[1;33m\u001b[0m\u001b[1;33m\u001b[0m\u001b[0m\n\u001b[1;32m--> 396\u001b[1;33m         \u001b[1;32mreturn\u001b[0m \u001b[0mself\u001b[0m\u001b[1;33m.\u001b[0m\u001b[0m_parent\u001b[0m\u001b[1;33m.\u001b[0m\u001b[0mexecute\u001b[0m\u001b[1;33m(\u001b[0m\u001b[0mcommand\u001b[0m\u001b[1;33m,\u001b[0m \u001b[0mparams\u001b[0m\u001b[1;33m)\u001b[0m\u001b[1;33m\u001b[0m\u001b[1;33m\u001b[0m\u001b[0m\n\u001b[0m\u001b[0;32m    397\u001b[0m \u001b[1;33m\u001b[0m\u001b[0m\n\u001b[0;32m    398\u001b[0m     \u001b[1;32mdef\u001b[0m \u001b[0mfind_element\u001b[0m\u001b[1;33m(\u001b[0m\u001b[0mself\u001b[0m\u001b[1;33m,\u001b[0m \u001b[0mby\u001b[0m\u001b[1;33m=\u001b[0m\u001b[0mBy\u001b[0m\u001b[1;33m.\u001b[0m\u001b[0mID\u001b[0m\u001b[1;33m,\u001b[0m \u001b[0mvalue\u001b[0m\u001b[1;33m=\u001b[0m\u001b[1;32mNone\u001b[0m\u001b[1;33m)\u001b[0m \u001b[1;33m->\u001b[0m \u001b[0mWebElement\u001b[0m\u001b[1;33m:\u001b[0m\u001b[1;33m\u001b[0m\u001b[1;33m\u001b[0m\u001b[0m\n",
      "\u001b[1;32m~\\anaconda3\\lib\\site-packages\\selenium\\webdriver\\remote\\webdriver.py\u001b[0m in \u001b[0;36mexecute\u001b[1;34m(self, driver_command, params)\u001b[0m\n\u001b[0;32m    427\u001b[0m         \u001b[0mresponse\u001b[0m \u001b[1;33m=\u001b[0m \u001b[0mself\u001b[0m\u001b[1;33m.\u001b[0m\u001b[0mcommand_executor\u001b[0m\u001b[1;33m.\u001b[0m\u001b[0mexecute\u001b[0m\u001b[1;33m(\u001b[0m\u001b[0mdriver_command\u001b[0m\u001b[1;33m,\u001b[0m \u001b[0mparams\u001b[0m\u001b[1;33m)\u001b[0m\u001b[1;33m\u001b[0m\u001b[1;33m\u001b[0m\u001b[0m\n\u001b[0;32m    428\u001b[0m         \u001b[1;32mif\u001b[0m \u001b[0mresponse\u001b[0m\u001b[1;33m:\u001b[0m\u001b[1;33m\u001b[0m\u001b[1;33m\u001b[0m\u001b[0m\n\u001b[1;32m--> 429\u001b[1;33m             \u001b[0mself\u001b[0m\u001b[1;33m.\u001b[0m\u001b[0merror_handler\u001b[0m\u001b[1;33m.\u001b[0m\u001b[0mcheck_response\u001b[0m\u001b[1;33m(\u001b[0m\u001b[0mresponse\u001b[0m\u001b[1;33m)\u001b[0m\u001b[1;33m\u001b[0m\u001b[1;33m\u001b[0m\u001b[0m\n\u001b[0m\u001b[0;32m    430\u001b[0m             response['value'] = self._unwrap_value(\n\u001b[0;32m    431\u001b[0m                 response.get('value', None))\n",
      "\u001b[1;32m~\\anaconda3\\lib\\site-packages\\selenium\\webdriver\\remote\\errorhandler.py\u001b[0m in \u001b[0;36mcheck_response\u001b[1;34m(self, response)\u001b[0m\n\u001b[0;32m    241\u001b[0m                 \u001b[0malert_text\u001b[0m \u001b[1;33m=\u001b[0m \u001b[0mvalue\u001b[0m\u001b[1;33m[\u001b[0m\u001b[1;34m'alert'\u001b[0m\u001b[1;33m]\u001b[0m\u001b[1;33m.\u001b[0m\u001b[0mget\u001b[0m\u001b[1;33m(\u001b[0m\u001b[1;34m'text'\u001b[0m\u001b[1;33m)\u001b[0m\u001b[1;33m\u001b[0m\u001b[1;33m\u001b[0m\u001b[0m\n\u001b[0;32m    242\u001b[0m             \u001b[1;32mraise\u001b[0m \u001b[0mexception_class\u001b[0m\u001b[1;33m(\u001b[0m\u001b[0mmessage\u001b[0m\u001b[1;33m,\u001b[0m \u001b[0mscreen\u001b[0m\u001b[1;33m,\u001b[0m \u001b[0mstacktrace\u001b[0m\u001b[1;33m,\u001b[0m \u001b[0malert_text\u001b[0m\u001b[1;33m)\u001b[0m  \u001b[1;31m# type: ignore[call-arg]  # mypy is not smart enough here\u001b[0m\u001b[1;33m\u001b[0m\u001b[1;33m\u001b[0m\u001b[0m\n\u001b[1;32m--> 243\u001b[1;33m         \u001b[1;32mraise\u001b[0m \u001b[0mexception_class\u001b[0m\u001b[1;33m(\u001b[0m\u001b[0mmessage\u001b[0m\u001b[1;33m,\u001b[0m \u001b[0mscreen\u001b[0m\u001b[1;33m,\u001b[0m \u001b[0mstacktrace\u001b[0m\u001b[1;33m)\u001b[0m\u001b[1;33m\u001b[0m\u001b[1;33m\u001b[0m\u001b[0m\n\u001b[0m",
      "\u001b[1;31mElementNotInteractableException\u001b[0m: Message: element not interactable\n  (Session info: chrome=106.0.5249.119)\nStacktrace:\nBacktrace:\n\tOrdinal0 [0x00AEDF13+2219795]\n\tOrdinal0 [0x00A82841+1779777]\n\tOrdinal0 [0x00994100+803072]\n\tOrdinal0 [0x009BE523+976163]\n\tOrdinal0 [0x009BDB93+973715]\n\tOrdinal0 [0x009DE7FC+1107964]\n\tOrdinal0 [0x009B94B4+955572]\n\tOrdinal0 [0x009DEA14+1108500]\n\tOrdinal0 [0x009EF192+1175954]\n\tOrdinal0 [0x009DE616+1107478]\n\tOrdinal0 [0x009B7F89+950153]\n\tOrdinal0 [0x009B8F56+954198]\n\tGetHandleVerifier [0x00DE2CB2+3040210]\n\tGetHandleVerifier [0x00DD2BB4+2974420]\n\tGetHandleVerifier [0x00B86A0A+565546]\n\tGetHandleVerifier [0x00B85680+560544]\n\tOrdinal0 [0x00A89A5C+1808988]\n\tOrdinal0 [0x00A8E3A8+1827752]\n\tOrdinal0 [0x00A8E495+1827989]\n\tOrdinal0 [0x00A980A4+1867940]\n\tBaseThreadInitThunk [0x76106739+25]\n\tRtlGetFullPathName_UEx [0x76F28FD2+1218]\n\tRtlGetFullPathName_UEx [0x76F28F9D+1165]\n"
     ]
    }
   ],
   "source": [
    "# Activating the chrome browser\n",
    "driver=webdriver.Chrome(r\"C:\\Users\\artia\\OneDrive\\Documents\\selenium\\chromedriver.exe\")\n",
    "time.sleep(2)\n",
    "\n",
    "# Opening the youtube.com\n",
    "url = \"https://www.youtube.com/\"\n",
    "driver.get(url)\n",
    "time.sleep(2)\n",
    "\n",
    "#finding element for search bar\n",
    "search = driver.find_element(By.CLASS_NAME,'ytd-searchbox-spt')\n",
    "search.send_keys('Mirzapur')  \n",
    "time.sleep(1)\n",
    "\n",
    "#clicking on search button\n",
    "search_btn = driver.find_element(By.ID,\"search-icon-legacy\")  \n",
    "search_btn.click()\n",
    "time.sleep(1)\n",
    "\n",
    "#clicking on first video\n",
    "link_click = driver.find_element(By.XPATH,\"//yt-formatted-string[@class ='style-scope ytd-video-renderer']\")\n",
    "link_click.click()"
   ]
  },
  {
   "cell_type": "markdown",
   "id": "5347bb7b",
   "metadata": {},
   "source": [
    "# Not getting proper results, 7/8 times tried to run the code for all questions but everytime getting different different results, and everytime lenght is changing. #first i tried on my own then took google help but the codes present over there are also not running properly. So submitting the assignment"
   ]
  },
  {
   "cell_type": "code",
   "execution_count": null,
   "id": "227c723b",
   "metadata": {},
   "outputs": [],
   "source": []
  }
 ],
 "metadata": {
  "kernelspec": {
   "display_name": "Python 3 (ipykernel)",
   "language": "python",
   "name": "python3"
  },
  "language_info": {
   "codemirror_mode": {
    "name": "ipython",
    "version": 3
   },
   "file_extension": ".py",
   "mimetype": "text/x-python",
   "name": "python",
   "nbconvert_exporter": "python",
   "pygments_lexer": "ipython3",
   "version": "3.9.7"
  }
 },
 "nbformat": 4,
 "nbformat_minor": 5
}
